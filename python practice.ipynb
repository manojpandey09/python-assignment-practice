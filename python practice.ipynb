{
 "cells": [
  {
   "cell_type": "markdown",
   "id": "0e76ce9c-fc5c-4037-ab23-55fd6ab9d9c4",
   "metadata": {},
   "source": [
    "# Question 1 to 150 "
   ]
  },
  {
   "cell_type": "markdown",
   "id": "2739a85f-6539-47c9-a1ab-d2ca9b27a821",
   "metadata": {},
   "source": [
    "##### Q1 = Write a Python program to print the following string in a specific format (see the output).Twinkle, twinkle, little star, How I wonder what you are! Up above the world so high, Like a diamond in the sky. Twinkle, twinkle, little star, How I wonder what you are\""
   ]
  },
  {
   "cell_type": "code",
   "execution_count": 14,
   "id": "4091b4b9-4fbc-45a7-8324-cda5237cbed0",
   "metadata": {},
   "outputs": [
    {
     "name": "stdout",
     "output_type": "stream",
     "text": [
      "Twinkle, tiwinkle, little star,\n",
      "          how I wonder what you are!\n",
      "                   up above the world so high,\n",
      "                   like a diamond in the sky.\n",
      "Twinkle, twinkle,little star,\n",
      "         How i woner that you are\n"
     ]
    }
   ],
   "source": [
    "print(\"\"\"Twinkle, tiwinkle, little star,\n",
    "          how I wonder what you are!\n",
    "                   up above the world so high,\n",
    "                   like a diamond in the sky.\n",
    "Twinkle, twinkle,little star,\n",
    "         How i woner that you are\"\"\")"
   ]
  },
  {
   "cell_type": "markdown",
   "id": "b7c66ae3-63bb-44bc-93ad-cee7a34a2b50",
   "metadata": {},
   "source": [
    "#### Q2 - Write a Python program to find out what version of Python you are using"
   ]
  },
  {
   "cell_type": "code",
   "execution_count": 29,
   "id": "0c05fb32-79d9-4364-b1e5-91bcc3577a59",
   "metadata": {},
   "outputs": [
    {
     "data": {
      "text/plain": [
       "'3.12.7 | packaged by Anaconda, Inc. | (main, Oct  4 2024, 13:17:27) [MSC v.1929 64 bit (AMD64)]'"
      ]
     },
     "execution_count": 29,
     "metadata": {},
     "output_type": "execute_result"
    }
   ],
   "source": [
    "sys.version"
   ]
  },
  {
   "cell_type": "markdown",
   "id": "0842b682-0dcd-4fec-8042-6a287769c0a6",
   "metadata": {},
   "source": [
    "#### Q3 -  Write a Python program to display the current date and time.\n",
    "Sample Output :\n",
    "Current date and time :\n",
    "2014-07-05 14:34:14"
   ]
  },
  {
   "cell_type": "code",
   "execution_count": 48,
   "id": "5b59b5d7-3998-4b69-bf90-1587d67f11a5",
   "metadata": {},
   "outputs": [],
   "source": [
    "from datetime import datetime"
   ]
  },
  {
   "cell_type": "code",
   "execution_count": 52,
   "id": "98bc1d8a-c5c0-42a0-bdf0-967d6ebb1021",
   "metadata": {},
   "outputs": [],
   "source": [
    "a = datetime.now()"
   ]
  },
  {
   "cell_type": "code",
   "execution_count": 54,
   "id": "e6f45041-ca1a-4459-a8ce-69325cf7fd96",
   "metadata": {},
   "outputs": [
    {
     "name": "stdout",
     "output_type": "stream",
     "text": [
      "2025-06-18 17:16:57.902628\n"
     ]
    }
   ],
   "source": [
    "print(a)"
   ]
  },
  {
   "cell_type": "markdown",
   "id": "29f0096c-ce2f-4274-9e4e-bf2ea39e95d8",
   "metadata": {},
   "source": [
    "#### Q4 - Write a Python program that calculates the area of a circle based on the radius entered by the user.\n",
    "Sample Output :\n",
    "r = 1.1\n",
    "Area = 3.8013271108436504"
   ]
  },
  {
   "cell_type": "code",
   "execution_count": 55,
   "id": "b4566142-c430-4a2e-9563-b2f16bad5a85",
   "metadata": {},
   "outputs": [],
   "source": [
    "from math import pi"
   ]
  },
  {
   "cell_type": "code",
   "execution_count": 56,
   "id": "5ba0f9af-9434-454e-88f4-6f411817c252",
   "metadata": {},
   "outputs": [
    {
     "name": "stdin",
     "output_type": "stream",
     "text": [
      "input the radius of circle :  1.1\n"
     ]
    }
   ],
   "source": [
    "r = float(input(\"input the radius of circle : \"))"
   ]
  },
  {
   "cell_type": "code",
   "execution_count": 61,
   "id": "a8655166-35e7-4bfa-b235-93f04860acaa",
   "metadata": {},
   "outputs": [],
   "source": [
    "area = pi * r ** 2"
   ]
  },
  {
   "cell_type": "code",
   "execution_count": 62,
   "id": "30c9c3ff-d0c5-444f-b193-a9170e735002",
   "metadata": {},
   "outputs": [
    {
     "name": "stdout",
     "output_type": "stream",
     "text": [
      "r = 1.1 area = 3.8013271108436504\n"
     ]
    }
   ],
   "source": [
    "print(f\"r = {r} area = {area}\")"
   ]
  },
  {
   "cell_type": "markdown",
   "id": "64e59399-51b9-4498-84a7-42759f014c10",
   "metadata": {},
   "source": [
    "#### Q5 -Write a Python program that accepts the user's first and last name and prints them in reverse order with a space between them."
   ]
  },
  {
   "cell_type": "code",
   "execution_count": 78,
   "id": "c2dcef2f-ecc3-42f2-8b9a-70b2cbae9844",
   "metadata": {},
   "outputs": [
    {
     "name": "stdin",
     "output_type": "stream",
     "text": [
      "First_name  Manoj\n",
      "Last_name Pandey\n"
     ]
    },
    {
     "name": "stdout",
     "output_type": "stream",
     "text": [
      "Pandey Manoj\n"
     ]
    }
   ],
   "source": [
    "First_name = input(\"First_name \") \n",
    "Last_name = input(\"Last_name\")\n",
    "print(f\"{Last_name} {First_name}\")"
   ]
  },
  {
   "cell_type": "markdown",
   "id": "3cbce511-494f-47d6-9052-2f1357fa5162",
   "metadata": {},
   "source": [
    "#### Q6 - Write a Python program that accepts a sequence of comma-separated numbers from the user and generates a list and a tuple of those numbers.\n",
    "Sample data : 3, 5, 7, 23\n",
    "Output :\n",
    "List : ['3', ' 5', ' 7', ' 23']\n",
    "Tuple : ('3', ' 5', ' 7', ' 23')"
   ]
  },
  {
   "cell_type": "code",
   "execution_count": 1,
   "id": "93338f29-b607-4467-8e0f-dc3c744f4f3c",
   "metadata": {},
   "outputs": [
    {
     "name": "stdin",
     "output_type": "stream",
     "text": [
      "Enter comma-separated numbers:  3,5,7,23\n"
     ]
    },
    {
     "name": "stdout",
     "output_type": "stream",
     "text": [
      "List: ['3', '5', '7', '23']\n",
      "Tuple: ('3', '5', '7', '23')\n"
     ]
    }
   ],
   "source": [
    "numbers = input(\"Enter comma-separated numbers: \")\n",
    "num_list = numbers.split(',')\n",
    "num_tuple = tuple(num_list)\n",
    "\n",
    "print(\"List:\", num_list)\n",
    "print(\"Tuple:\", num_tuple)\n"
   ]
  },
  {
   "cell_type": "markdown",
   "id": "dda06a0d-f286-473b-8cd6-552cd83656ae",
   "metadata": {},
   "source": [
    "#### Q7 - Write a Python program that accepts a filename from the user and prints the extension of the file.\n",
    "Sample filename : abc.java\n",
    "Output : java"
   ]
  },
  {
   "cell_type": "code",
   "execution_count": 7,
   "id": "4aab8530-5e59-4a32-8dcc-6f0e42ae3402",
   "metadata": {},
   "outputs": [
    {
     "name": "stdin",
     "output_type": "stream",
     "text": [
      "give me the file name  ab.java\n"
     ]
    },
    {
     "name": "stdout",
     "output_type": "stream",
     "text": [
      "the extension of the file is : 'ab.java'\n"
     ]
    }
   ],
   "source": [
    "filename = input(\"give me the file name \")\n",
    "f_extent = filename.split(\" . \")\n",
    "print(\"the extension of the file is : \" + repr(f_extent[-1]))"
   ]
  },
  {
   "cell_type": "markdown",
   "id": "686dd297-12bb-4c6e-b47f-235205f96c8e",
   "metadata": {},
   "source": [
    "#### Q8 -Write a Python program to display the first and last colors from the following list.\n",
    "color_list = [\"Red\",\"Green\",\"White\" ,\"Black\"]"
   ]
  },
  {
   "cell_type": "code",
   "execution_count": 13,
   "id": "57a45d1d-bb61-49e0-a0de-053ffc28693f",
   "metadata": {},
   "outputs": [
    {
     "name": "stdin",
     "output_type": "stream",
     "text": [
      "Give me the colours list:  red , green ,white , black\n"
     ]
    },
    {
     "name": "stdout",
     "output_type": "stream",
     "text": [
      "Here are two colours: 'red ' and 'white '\n"
     ]
    }
   ],
   "source": [
    "colours = input(\"Give me the colours list: \")\n",
    "col = colours.split(',')  # Convert comma-separated string to list\n",
    "print(\"Here are two colours:\", repr(col[0]), \"and\", repr(col[2]))\n"
   ]
  },
  {
   "cell_type": "code",
   "execution_count": 14,
   "id": "89f56bb0-3a3c-48bb-91ba-d8fc987432a3",
   "metadata": {},
   "outputs": [
    {
     "name": "stdout",
     "output_type": "stream",
     "text": [
      "Red Black\n"
     ]
    }
   ],
   "source": [
    "# Create a list called 'color_list' containing color names\n",
    "color_list = [\"Red\", \"Green\", \"White\", \"Black\"]\n",
    "# Print the first and last elements of the 'color_list' using string formatting\n",
    "# The '%s' placeholders are filled with the values of 'color_list[0]' (Red) and 'color_list[-1]' (Black)\n",
    "print(\"%s %s\" % (color_list[0], color_list[-1]))\n"
   ]
  },
  {
   "cell_type": "markdown",
   "id": "2e7e8f6e-e0ef-4fd8-ba42-992c82962163",
   "metadata": {},
   "source": [
    "#### Q9- Write a Python program to display the examination schedule. (extract the date from exam_st_date).\n",
    "exam_st_date = (11, 12, 2014)\n",
    "Sample Output : The examination will start from : 11 / 12 / 2014"
   ]
  },
  {
   "cell_type": "code",
   "execution_count": 25,
   "id": "8c145d15-0fd5-4b96-bdf8-ca803e897559",
   "metadata": {},
   "outputs": [
    {
     "name": "stdout",
     "output_type": "stream",
     "text": [
      "The examination will start from: 11 / 12 / 2014\n"
     ]
    }
   ],
   "source": [
    "DATE = (11, 12, 2014)\n",
    "print(\"The examination will start from: %i / %i / %i\" % (DATE))\n"
   ]
  },
  {
   "cell_type": "markdown",
   "id": "b6248f97-db9e-4ef4-982e-fdf5ad59e9b5",
   "metadata": {},
   "source": [
    "#### Q10 = Write a Python program that accepts an integer (n) and computes the value of n+nn+nnn.\n",
    "Sample value of n is 5\n",
    "Expected Result : 615"
   ]
  },
  {
   "cell_type": "code",
   "execution_count": 31,
   "id": "777c4e1e-213f-495d-9b75-02c4354d7f30",
   "metadata": {},
   "outputs": [
    {
     "name": "stdin",
     "output_type": "stream",
     "text": [
      "here is an interget 5\n"
     ]
    },
    {
     "name": "stdout",
     "output_type": "stream",
     "text": [
      "615\n"
     ]
    }
   ],
   "source": [
    "a = int(input(\"here is an interget\"))\n",
    "n1 = int(\"%s\" % a )\n",
    "n2 = int(\"%s%s\" %(a,a ))\n",
    "n3 = int(\"%s%s%s\" % (a,a,a))\n",
    "print(n1+n2+n3)\n",
    "\n",
    "\n"
   ]
  },
  {
   "cell_type": "markdown",
   "id": "39e49df9-34bc-42ec-a5f8-736624069b2d",
   "metadata": {},
   "source": [
    "#### Q11 = Write a Python program to print the documents (syntax, description etc.) of Python built-in function(s).\n",
    "*Sample function : abs()\n",
    "*Expected Result :\n",
    "*abs(number) -> number\n",
    "*Return the absolute value of the argument"
   ]
  },
  {
   "cell_type": "code",
   "execution_count": null,
   "id": "3162d203-60f8-45df-9e8c-5e85058a1beb",
   "metadata": {},
   "outputs": [],
   "source": []
  },
  {
   "cell_type": "code",
   "execution_count": null,
   "id": "7038ae8a-6a72-4bf5-8255-5bc199ea7851",
   "metadata": {},
   "outputs": [],
   "source": []
  },
  {
   "cell_type": "markdown",
   "id": "ca93d721-a4ca-4358-8505-1aaafe2d0e5f",
   "metadata": {},
   "source": [
    "#### Q12 =Write a Python program that prints the calendar for a given month and year.\n",
    "* Note : Use 'calendar' module."
   ]
  },
  {
   "cell_type": "code",
   "execution_count": null,
   "id": "2fdc768a-653c-49cc-816e-d0315e319a69",
   "metadata": {},
   "outputs": [],
   "source": []
  },
  {
   "cell_type": "code",
   "execution_count": null,
   "id": "b77f0eb3-e0d6-4faf-aeff-999b076bb34b",
   "metadata": {},
   "outputs": [],
   "source": []
  },
  {
   "cell_type": "markdown",
   "id": "d1cb4d57-a88c-493e-baab-d80061b6ef84",
   "metadata": {},
   "source": [
    "#### Q13 - Write a Python program to print the following 'here document'.\n",
    "*Sample string :\n",
    "*a string that you \"don't\" have to escape\n",
    "*This\n",
    "*is a ....... multi-line\n",
    "*heredoc string --------> example"
   ]
  },
  {
   "cell_type": "code",
   "execution_count": null,
   "id": "e60d6a78-cee7-4ec7-a2b1-c20341ac5a7b",
   "metadata": {},
   "outputs": [],
   "source": []
  },
  {
   "cell_type": "code",
   "execution_count": null,
   "id": "1f22b788-b18b-459f-abcb-ae88720a8fe0",
   "metadata": {},
   "outputs": [],
   "source": []
  },
  {
   "cell_type": "markdown",
   "id": "febbbca2-bcd0-401c-8e67-9750b40b1cce",
   "metadata": {},
   "source": [
    "#### Q14=Write a Python program to calculate the number of days between two dates.\n",
    "* Sample dates : (2014, 7, 2), (2014, 7, 11)\n",
    "* Expected output : 9 days"
   ]
  },
  {
   "cell_type": "code",
   "execution_count": null,
   "id": "f369c9da-569a-45ba-aaf0-25c72d01f840",
   "metadata": {},
   "outputs": [],
   "source": []
  },
  {
   "cell_type": "code",
   "execution_count": null,
   "id": "446b5593-09e6-4ddf-9e64-4906988bbcd4",
   "metadata": {},
   "outputs": [],
   "source": []
  },
  {
   "cell_type": "markdown",
   "id": "f594fd16-f12f-4f30-b42b-0befea03ffa3",
   "metadata": {},
   "source": [
    "#### Q15 - Write a Python program to get the volume of a sphere with radius six."
   ]
  },
  {
   "cell_type": "code",
   "execution_count": null,
   "id": "3650e2df-492f-440a-8f44-121b13360f98",
   "metadata": {},
   "outputs": [],
   "source": []
  },
  {
   "cell_type": "code",
   "execution_count": null,
   "id": "bd4c5349-a82b-4912-937c-d7b29d965004",
   "metadata": {},
   "outputs": [],
   "source": []
  },
  {
   "cell_type": "markdown",
   "id": "ee1a3300-4dd8-478a-a59b-2e3fbe5220c4",
   "metadata": {},
   "source": [
    "#### Q16 - Write a Python program to calculate the difference between a given number and 17. If the number is greater than 17, return twice the absolute difference."
   ]
  },
  {
   "cell_type": "code",
   "execution_count": null,
   "id": "c621ac73-fe94-485c-b9e2-018286121b82",
   "metadata": {},
   "outputs": [],
   "source": []
  },
  {
   "cell_type": "code",
   "execution_count": null,
   "id": "2a9cecd1-6123-4ea9-ab1b-6bcbb99806f2",
   "metadata": {},
   "outputs": [],
   "source": []
  },
  {
   "cell_type": "markdown",
   "id": "a23e94e4-a23e-4353-a287-7fa006ce3d99",
   "metadata": {},
   "source": [
    "#### Q17 - Write a Python program to test whether a number is within 100 of 1000 or 2000."
   ]
  },
  {
   "cell_type": "code",
   "execution_count": null,
   "id": "eb9614f0-e266-4664-a864-8a01a14ae7d8",
   "metadata": {},
   "outputs": [],
   "source": []
  },
  {
   "cell_type": "code",
   "execution_count": null,
   "id": "694274be-1552-4f5f-9f3c-d22a5725b7ec",
   "metadata": {},
   "outputs": [],
   "source": []
  },
  {
   "cell_type": "markdown",
   "id": "72647ddd-6a56-40f3-882d-34a756e6a55f",
   "metadata": {},
   "source": [
    "#### Q18 = Write a Python program to calculate the sum of three given numbers. If the values are equal, return three times their sum."
   ]
  },
  {
   "cell_type": "code",
   "execution_count": null,
   "id": "093e0101-1a52-4332-be8d-068310e5fdfa",
   "metadata": {},
   "outputs": [],
   "source": []
  },
  {
   "cell_type": "code",
   "execution_count": null,
   "id": "dec8d926-e52f-4e9e-a0b8-4f54a192fbb2",
   "metadata": {},
   "outputs": [],
   "source": []
  },
  {
   "cell_type": "markdown",
   "id": "ec3a1bb6-9933-417f-a529-f638dba92240",
   "metadata": {},
   "source": [
    "#### Q19 = Write a Python program to get a newly-generated string from a given string where \"Is\" has been added to the front. Return the string unchanged if the given string already begins with \"Is\"."
   ]
  },
  {
   "cell_type": "code",
   "execution_count": null,
   "id": "75b7c4d4-1b2b-4e79-b098-ffa600319a3b",
   "metadata": {},
   "outputs": [],
   "source": []
  },
  {
   "cell_type": "code",
   "execution_count": null,
   "id": "6da7087a-2a0c-481d-8aa5-222cac5a6f89",
   "metadata": {},
   "outputs": [],
   "source": []
  },
  {
   "cell_type": "markdown",
   "id": "18f1f2f9-0c70-4af8-9c49-6c943485d056",
   "metadata": {},
   "source": [
    "#### Q20  =Write a Python program that returns a string that is n (non-negative integer) copies of a given string."
   ]
  },
  {
   "cell_type": "code",
   "execution_count": null,
   "id": "3c82beee-8011-46c4-b0e0-7d3cba08a664",
   "metadata": {},
   "outputs": [],
   "source": []
  },
  {
   "cell_type": "code",
   "execution_count": null,
   "id": "41dfa913-d0b5-43e3-be18-29c9c16139bc",
   "metadata": {},
   "outputs": [],
   "source": []
  }
 ],
 "metadata": {
  "kernelspec": {
   "display_name": "Python 3 (ipykernel)",
   "language": "python",
   "name": "python3"
  },
  "language_info": {
   "codemirror_mode": {
    "name": "ipython",
    "version": 3
   },
   "file_extension": ".py",
   "mimetype": "text/x-python",
   "name": "python",
   "nbconvert_exporter": "python",
   "pygments_lexer": "ipython3",
   "version": "3.12.7"
  }
 },
 "nbformat": 4,
 "nbformat_minor": 5
}
