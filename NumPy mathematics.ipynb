{
 "cells": [
  {
   "cell_type": "code",
   "execution_count": 1,
   "id": "8683088b-0be7-4847-9697-7af5983ec0aa",
   "metadata": {},
   "outputs": [],
   "source": [
    "import numpy as np "
   ]
  },
  {
   "cell_type": "markdown",
   "id": "ce8501ab-07b2-476a-91b7-7c2f81905893",
   "metadata": {},
   "source": [
    "#### 1 - Write a NumPy program to add, subtract, multiply, divide arguments element-wise.\n",
    "Sample elements: 4.0, 1.2"
   ]
  },
  {
   "cell_type": "code",
   "execution_count": 4,
   "id": "42961efd-32b4-41cd-a118-2bd3b5657610",
   "metadata": {},
   "outputs": [],
   "source": [
    "a = np.add(4.0 , 1.2)\n",
    "b = np.multiply(4.0 , 1.2)\n",
    "c = np.subtract(4.0 , 1.2)\n",
    "d = np.divide(4.0 , 1.2)"
   ]
  },
  {
   "cell_type": "code",
   "execution_count": 8,
   "id": "0b6e8962-316b-412e-9f7b-9ece8063732a",
   "metadata": {},
   "outputs": [
    {
     "name": "stdout",
     "output_type": "stream",
     "text": [
      "5.2\n",
      "4.8\n",
      "2.8\n",
      "3.3333333333333335\n"
     ]
    }
   ],
   "source": [
    "print(a)\n",
    "print(b)\n",
    "print(c)\n",
    "print(d)\n"
   ]
  },
  {
   "cell_type": "markdown",
   "id": "b1fb024f-fefe-4212-83dd-1f1e779abdab",
   "metadata": {},
   "source": [
    "#### 2. Log-Sum-Exp Computation\n",
    "\n",
    "Write a NumPy program to compute logarithm of the sum of exponentiations of the inputs, sum of exponentiations of the inputs in base-2"
   ]
  },
  {
   "cell_type": "code",
   "execution_count": 14,
   "id": "ef1bccd9-6b12-40b3-bf34-325e0ed21398",
   "metadata": {},
   "outputs": [
    {
     "data": {
      "text/plain": [
       "-115.12925464970229"
      ]
     },
     "execution_count": 14,
     "metadata": {},
     "output_type": "execute_result"
    }
   ],
   "source": [
    "l1 = np.log(1e-50)\n",
    "l1"
   ]
  },
  {
   "cell_type": "markdown",
   "id": "e8f0a863-3fe1-440d-ad9d-5cedf7dbee1c",
   "metadata": {},
   "source": [
    "#### 3. True Division of Array Inputs\n",
    "\n",
    "Write a NumPy program to get true division of the element-wise array inputs."
   ]
  },
  {
   "cell_type": "code",
   "execution_count": 18,
   "id": "d8b9e93a-dcdb-4ed4-853c-e5639b24c311",
   "metadata": {},
   "outputs": [
    {
     "data": {
      "text/plain": [
       "array([0, 1, 2, 3, 4, 5, 6, 7, 8, 9])"
      ]
     },
     "execution_count": 18,
     "metadata": {},
     "output_type": "execute_result"
    }
   ],
   "source": [
    "a = np.arange(10)\n",
    "a"
   ]
  },
  {
   "cell_type": "code",
   "execution_count": 21,
   "id": "82b64d48-6469-4a61-a33f-b349980b494b",
   "metadata": {},
   "outputs": [
    {
     "name": "stdout",
     "output_type": "stream",
     "text": [
      "[0.         0.33333333 0.66666667 1.         1.33333333 1.66666667\n",
      " 2.         2.33333333 2.66666667 3.        ]\n"
     ]
    }
   ],
   "source": [
    "print(np.true_divide(a , 3))"
   ]
  },
  {
   "cell_type": "markdown",
   "id": "474191bf-76c9-4f44-8740-77c76993ef7c",
   "metadata": {},
   "source": [
    "#### 4. Floor Division (Largest Integer Less or Equal)\n",
    "\n",
    "Write a NumPy program to get the largest integer smaller or equal to the division of the inputs."
   ]
  },
  {
   "cell_type": "code",
   "execution_count": 23,
   "id": "69a66f4b-ea92-40d6-94af-13b20cdc7311",
   "metadata": {},
   "outputs": [
    {
     "name": "stdout",
     "output_type": "stream",
     "text": [
      "[0. 1. 2. 2.]\n"
     ]
    }
   ],
   "source": [
    "x = [1,2,3,4]\n",
    "print(np.floor_divide(x,1.5))"
   ]
  },
  {
   "cell_type": "markdown",
   "id": "23e93612-9c5c-49f1-9d19-a670f2b42868",
   "metadata": {},
   "source": [
    "##### 5. Element-wise Exponentiation\n",
    "\n",
    "Write a NumPy program to get the powers of an array values element-wise."
   ]
  },
  {
   "cell_type": "code",
   "execution_count": 26,
   "id": "b3a277cf-6aaa-4172-9a18-4ce2eb5ef58c",
   "metadata": {},
   "outputs": [
    {
     "data": {
      "text/plain": [
       "array([0, 1, 2, 3, 4, 5, 6])"
      ]
     },
     "execution_count": 26,
     "metadata": {},
     "output_type": "execute_result"
    }
   ],
   "source": [
    "x = np.arange(7)\n",
    "x"
   ]
  },
  {
   "cell_type": "code",
   "execution_count": 27,
   "id": "e1782473-e129-45ef-9f82-eabb5ebbc39d",
   "metadata": {},
   "outputs": [
    {
     "name": "stdout",
     "output_type": "stream",
     "text": [
      "[   0    1   16   81  256  625 1296]\n"
     ]
    }
   ],
   "source": [
    "print(np.power(x ,4))"
   ]
  },
  {
   "cell_type": "markdown",
   "id": "ac7b3b17-4c21-4f4e-ac77-bf7d7e20681f",
   "metadata": {},
   "source": [
    "#### 6. Element-wise Remainder (Modulo)\n",
    "\n",
    "Write a NumPy program to get the element-wise remainder of an array of division."
   ]
  },
  {
   "cell_type": "code",
   "execution_count": 29,
   "id": "8d1fc1d3-174d-4b5b-9f49-3bded5d835bb",
   "metadata": {},
   "outputs": [],
   "source": [
    "x = np.arange(7)"
   ]
  },
  {
   "cell_type": "code",
   "execution_count": 30,
   "id": "6e4f5b2a-6404-4dea-8fcb-bdda9e05f83f",
   "metadata": {},
   "outputs": [
    {
     "name": "stdout",
     "output_type": "stream",
     "text": [
      "[0 1 2 3 4 0 1]\n"
     ]
    }
   ],
   "source": [
    "print(np.remainder(x , 5))"
   ]
  },
  {
   "cell_type": "markdown",
   "id": "35d52a64-5eb6-4d55-83be-69aa68bd6739",
   "metadata": {},
   "source": [
    "#### 7. Element-wise Absolute Value\n",
    "\n",
    "Write a NumPy program to calculate the absolute value element-wise. "
   ]
  },
  {
   "cell_type": "code",
   "execution_count": 42,
   "id": "1f04d559-00ce-4a7e-a9ce-a658642858ee",
   "metadata": {},
   "outputs": [
    {
     "data": {
      "text/plain": [
       "array([-10.2, 122.2,   0.2])"
      ]
     },
     "execution_count": 42,
     "metadata": {},
     "output_type": "execute_result"
    }
   ],
   "source": [
    "x = np.array([-10.2 , 122.2 , .20])\n",
    "x"
   ]
  },
  {
   "cell_type": "code",
   "execution_count": 43,
   "id": "53f58e40-6d07-4e96-9a8b-1a4135eac08d",
   "metadata": {},
   "outputs": [
    {
     "name": "stdout",
     "output_type": "stream",
     "text": [
      "[ 10.2 122.2   0.2]\n"
     ]
    }
   ],
   "source": [
    "print(np.absolute(x))"
   ]
  },
  {
   "cell_type": "markdown",
   "id": "f1d0f2aa-58e9-47ad-a655-ff06672b22ab",
   "metadata": {},
   "source": [
    "####  8. Rounding to Given Decimals\n",
    "\n",
    "Write a NumPy program to round array elements to the given number of decimals."
   ]
  },
  {
   "cell_type": "code",
   "execution_count": 47,
   "id": "b0a421e4-3064-4e45-8f2a-3e177ca51890",
   "metadata": {},
   "outputs": [
    {
     "data": {
      "text/plain": [
       "[12.3, 33.21, 0.134, 1.55]"
      ]
     },
     "execution_count": 47,
     "metadata": {},
     "output_type": "execute_result"
    }
   ],
   "source": [
    "x = [12.3 ,33.21, .134, 1.55]\n",
    "x"
   ]
  },
  {
   "cell_type": "code",
   "execution_count": 48,
   "id": "675a2097-5476-4104-835a-3fd520c0f744",
   "metadata": {},
   "outputs": [
    {
     "name": "stdout",
     "output_type": "stream",
     "text": [
      "[12. 33.  0.  2.]\n"
     ]
    }
   ],
   "source": [
    "print(np.round(x))"
   ]
  },
  {
   "cell_type": "markdown",
   "id": "c39ddb71-5cc0-4c6a-b4b2-b5b88863d977",
   "metadata": {},
   "source": [
    "#### 9. Nearest Integer Rounding\n",
    "\n",
    "Write a NumPy program to round elements of the array to the nearest integer."
   ]
  },
  {
   "cell_type": "code",
   "execution_count": 51,
   "id": "e3bbea10-5a6f-4276-b372-49db1e234add",
   "metadata": {},
   "outputs": [],
   "source": [
    "x = np.array([-7 , -1.5 , -1.7 , 0.4])"
   ]
  },
  {
   "cell_type": "code",
   "execution_count": 52,
   "id": "55b51a78-2b4f-40a9-84ca-3753f7a144ac",
   "metadata": {},
   "outputs": [
    {
     "name": "stdout",
     "output_type": "stream",
     "text": [
      "[-7. -2. -2.  0.]\n"
     ]
    }
   ],
   "source": [
    "print(np.rint(x))"
   ]
  },
  {
   "cell_type": "markdown",
   "id": "3afe1874-8a3c-47ba-ba2e-cdfc6bc44190",
   "metadata": {},
   "source": [
    "#### 10. Floor, Ceiling, and Truncation\n",
    "\n",
    "Write a NumPy program to get the floor, ceiling and truncated values of the elements of a numpy array."
   ]
  },
  {
   "cell_type": "code",
   "execution_count": 57,
   "id": "b60f85ef-b14f-4a75-8efc-5843b7e9c30d",
   "metadata": {},
   "outputs": [],
   "source": [
    "x = np.array([-1.4 , -1.5 , -9.2 , -2.4])"
   ]
  },
  {
   "cell_type": "code",
   "execution_count": 59,
   "id": "567d7879-87c0-4a76-97d3-955637b7cc50",
   "metadata": {},
   "outputs": [
    {
     "name": "stdout",
     "output_type": "stream",
     "text": [
      "[ -2.  -2. -10.  -3.]\n",
      "[-1. -1. -9. -2.]\n",
      "[-1. -1. -9. -2.]\n"
     ]
    }
   ],
   "source": [
    "print(np.floor(x))\n",
    "print(np.ceil(x))\n",
    "print(np.trunc(x))"
   ]
  },
  {
   "cell_type": "markdown",
   "id": "8a0f35c4-d3bc-4015-8526-e961ba464e30",
   "metadata": {},
   "source": [
    "#### 11. Matrix Product of Real Numbers\n",
    "\n",
    "Write a NumPy program to multiply a 5x3 matrix by a 3x2 matrix and create a real matrix product."
   ]
  },
  {
   "cell_type": "code",
   "execution_count": 66,
   "id": "dd1b47c4-e835-444d-92d9-fddbdee29255",
   "metadata": {},
   "outputs": [
    {
     "data": {
      "text/plain": [
       "array([[0.43079069, 0.55863677, 0.31405392],\n",
       "       [0.23896365, 0.71459057, 0.50331143],\n",
       "       [0.01145718, 0.67165001, 0.9299977 ],\n",
       "       [0.51294524, 0.50812576, 0.33903435],\n",
       "       [0.78904285, 0.98799915, 0.84605771]])"
      ]
     },
     "execution_count": 66,
     "metadata": {},
     "output_type": "execute_result"
    }
   ],
   "source": [
    "x = np.random.random((5,3))\n",
    "x"
   ]
  },
  {
   "cell_type": "code",
   "execution_count": 69,
   "id": "c2818e9c-bedc-48b0-a3dc-e8d5accd8d80",
   "metadata": {},
   "outputs": [
    {
     "data": {
      "text/plain": [
       "array([[0.60745255, 0.30493957],\n",
       "       [0.49189313, 0.18539899],\n",
       "       [0.11289411, 0.15614896]])"
      ]
     },
     "execution_count": 69,
     "metadata": {},
     "output_type": "execute_result"
    }
   ],
   "source": [
    "y = np.random.random((3,2))\n",
    "y"
   ]
  },
  {
   "cell_type": "code",
   "execution_count": 93,
   "id": "eaa36b7f-3aec-41ed-9881-b8da848a4d6f",
   "metadata": {},
   "outputs": [
    {
     "name": "stdout",
     "output_type": "stream",
     "text": [
      "[[0.57192933 0.28397501]\n",
      " [0.55348217 0.2839454 ]\n",
      " [0.44233098 0.27323515]\n",
      " [0.59980845 0.30356316]\n",
      " [1.06081102 0.55589546]]\n"
     ]
    }
   ],
   "source": [
    "print(np.dot(x,y))"
   ]
  },
  {
   "cell_type": "markdown",
   "id": "091c4aae-5fb3-44cc-901b-99eb9c187c45",
   "metadata": {},
   "source": [
    "#### 12. Complex Matrix Multiplication\n",
    "\n",
    "Write a NumPy program to multiply a matrix by another matrix of complex numbers and create a new matrix of complex numbers."
   ]
  },
  {
   "cell_type": "code",
   "execution_count": 95,
   "id": "8c6240a3-ec1b-404b-9c0a-208e4fccb5da",
   "metadata": {},
   "outputs": [],
   "source": [
    "x = np.array([1 + 2j  , 3+4j])"
   ]
  },
  {
   "cell_type": "code",
   "execution_count": 96,
   "id": "7937cd1c-4e91-46e8-8f4a-9009cd63c09e",
   "metadata": {},
   "outputs": [],
   "source": [
    "y = np.array([5+6j , 7+8j])"
   ]
  },
  {
   "cell_type": "code",
   "execution_count": 97,
   "id": "178fb32e-037e-445a-bd3f-1ce7e5e920e6",
   "metadata": {},
   "outputs": [
    {
     "name": "stdout",
     "output_type": "stream",
     "text": [
      "(70-8j)\n"
     ]
    }
   ],
   "source": [
    "print(np.vdot(x,y))"
   ]
  },
  {
   "cell_type": "markdown",
   "id": "63de0d67-84d1-4528-b2d4-296e107a6f70",
   "metadata": {},
   "source": [
    "#### 13. Inner Product of Arrays\n",
    "\n",
    "Write a NumPy program to create an inner product of two arrays."
   ]
  },
  {
   "cell_type": "code",
   "execution_count": 110,
   "id": "a599e0f3-0e1d-4e6e-a2c5-752028209ac2",
   "metadata": {},
   "outputs": [
    {
     "data": {
      "text/plain": [
       "array([[[ 0,  1,  2,  3],\n",
       "        [ 4,  5,  6,  7],\n",
       "        [ 8,  9, 10, 11]],\n",
       "\n",
       "       [[12, 13, 14, 15],\n",
       "        [16, 17, 18, 19],\n",
       "        [20, 21, 22, 23]]])"
      ]
     },
     "execution_count": 110,
     "metadata": {},
     "output_type": "execute_result"
    }
   ],
   "source": [
    "a = np.arange(24). reshape(2,3,4)\n",
    "a"
   ]
  },
  {
   "cell_type": "code",
   "execution_count": 116,
   "id": "80615d1c-986d-43d4-93a2-4923b2e333e8",
   "metadata": {},
   "outputs": [
    {
     "data": {
      "text/plain": [
       "array([0, 1, 2, 3])"
      ]
     },
     "execution_count": 116,
     "metadata": {},
     "output_type": "execute_result"
    }
   ],
   "source": [
    "b = np.arange(4)\n",
    "b"
   ]
  },
  {
   "cell_type": "code",
   "execution_count": 117,
   "id": "9eaca942-3a04-400d-baf9-cbdc161e921a",
   "metadata": {},
   "outputs": [
    {
     "name": "stdout",
     "output_type": "stream",
     "text": [
      "[[ 14  38  62]\n",
      " [ 86 110 134]]\n"
     ]
    }
   ],
   "source": [
    "print(np.inner(a,b))"
   ]
  },
  {
   "cell_type": "markdown",
   "id": "d1771bd4-d311-4ce5-9555-287abedfe84b",
   "metadata": {},
   "source": [
    "#### 14. Inner, Outer, and Cross Products\n",
    "\n",
    "Write a NumPy program to generate inner, outer, and cross products of matrices and vectors."
   ]
  },
  {
   "cell_type": "code",
   "execution_count": 125,
   "id": "265fc3bd-1d09-4ac2-9c0b-c9e38e327dcb",
   "metadata": {},
   "outputs": [],
   "source": [
    "x = np.random.randint((1,8))\n",
    "y = np.random.randint((11,18))"
   ]
  },
  {
   "cell_type": "code",
   "execution_count": 126,
   "id": "8e524eac-167e-4f72-867b-d692d8a09311",
   "metadata": {},
   "outputs": [
    {
     "name": "stdout",
     "output_type": "stream",
     "text": [
      "15\n",
      "[[ 0  0]\n",
      " [ 6 15]]\n",
      "-6\n"
     ]
    }
   ],
   "source": [
    "print(np.inner(x,y))\n",
    "print(np.outer(x,y))\n",
    "print(np.cross(x,y))"
   ]
  },
  {
   "cell_type": "markdown",
   "id": "a807f7cf-e84f-4a70-93cd-a180fc5a499d",
   "metadata": {},
   "source": [
    "#### 15. Matrix Product of Two Arrays\n",
    "\n",
    "Write a NumPy program to generate a matrix product of two arrays"
   ]
  },
  {
   "cell_type": "code",
   "execution_count": 131,
   "id": "2e316b57-db8a-4573-825b-7af57f57d7df",
   "metadata": {},
   "outputs": [],
   "source": [
    "x = [[1, 0], [1, 1]]\n",
    "y = [[3, 1], [2, 2]]"
   ]
  },
  {
   "cell_type": "code",
   "execution_count": 132,
   "id": "ae68e053-f79e-49ae-8e79-bfe72505e4fc",
   "metadata": {},
   "outputs": [
    {
     "name": "stdout",
     "output_type": "stream",
     "text": [
      "[[3 1]\n",
      " [5 3]]\n"
     ]
    }
   ],
   "source": [
    "print(np.matmul(x,y))"
   ]
  },
  {
   "cell_type": "markdown",
   "id": "bfc4e9f9-d576-4939-bc4a-94b7c3590d46",
   "metadata": {},
   "source": [
    "#### 16. Polynomial Roots\n",
    "\n",
    "Write a NumPy program to find the roots of the following polynomials.\n",
    "\n",
    "a) x2 − 4x + 7.\n",
    " b) x4 − 11x3 + 9x2 + 11x – 10"
   ]
  },
  {
   "cell_type": "code",
   "execution_count": 135,
   "id": "9ec531ba-fc5f-41e2-aad5-46d4790e50dd",
   "metadata": {},
   "outputs": [
    {
     "name": "stdout",
     "output_type": "stream",
     "text": [
      "[1.+6.68896751e-09j 1.-6.68896751e-09j]\n",
      "[11.04461946+0.j        -0.8711421 +0.j         0.91326132+0.4531004j\n",
      "  0.91326132-0.4531004j]\n"
     ]
    }
   ],
   "source": [
    "print(np.roots([1,-2,1]))\n",
    "print(np.roots([1, -12, 10, 7, -10])) "
   ]
  },
  {
   "cell_type": "markdown",
   "id": "d54872f0-af56-48fd-a476-9119b99971b8",
   "metadata": {},
   "source": [
    "#### 17. Evaluate Polynomial Values\n",
    "\n",
    "Write a NumPy program to compute the following polynomial values."
   ]
  },
  {
   "cell_type": "code",
   "execution_count": 139,
   "id": "df4aee96-90e8-4512-8a15-c41d8f15f5da",
   "metadata": {},
   "outputs": [
    {
     "name": "stdout",
     "output_type": "stream",
     "text": [
      "1\n"
     ]
    }
   ],
   "source": [
    "print(np.polyval([1, -2, 1], 2))"
   ]
  },
  {
   "cell_type": "markdown",
   "id": "63507716-151e-4166-a966-4fd62aec457e",
   "metadata": {},
   "source": [
    "#### 18. Polynomial Arithmetic Operations\n",
    "\n",
    "Write a NumPy program to add one polynomial to another, subtract one polynomial from another, multiply one polynomial by another and divide one polynomial by another."
   ]
  },
  {
   "cell_type": "code",
   "execution_count": 140,
   "id": "4b99fc0a-d248-4713-814d-60e466ec6b33",
   "metadata": {},
   "outputs": [
    {
     "name": "stdout",
     "output_type": "stream",
     "text": [
      "Add one polynomial to another:\n",
      "[40. 60. 80.]\n",
      "Subtract one polynomial from another:\n",
      "[-20. -20. -20.]\n",
      "Multiply one polynomial by another:\n",
      "[ 300. 1000. 2200. 2200. 1500.]\n",
      "Divide one polynomial by another:\n",
      "(array([0.6]), array([-8., -4.]))\n"
     ]
    }
   ],
   "source": [
    "# Importing the required polynomial functions from numpy\n",
    "from numpy.polynomial import polynomial as P\n",
    "\n",
    "# Define the coefficients of the first polynomial\n",
    "x = (10, 20, 30)\n",
    "\n",
    "# Define the coefficients of the second polynomial\n",
    "y = (30, 40, 50)\n",
    "\n",
    "# Add one polynomial to another\n",
    "print(\"Add one polynomial to another:\")\n",
    "print(P.polyadd(x, y))\n",
    "\n",
    "# Subtract one polynomial from another\n",
    "print(\"Subtract one polynomial from another:\")\n",
    "print(P.polysub(x, y))\n",
    "\n",
    "# Multiply one polynomial by another\n",
    "print(\"Multiply one polynomial by another:\")\n",
    "print(P.polymul(x, y))\n",
    "\n",
    "# Divide one polynomial by another\n",
    "print(\"Divide one polynomial by another:\")\n",
    "print(P.polydiv(x, y)) \n"
   ]
  },
  {
   "cell_type": "markdown",
   "id": "4bac1588-9dce-4f48-ab00-ce378acfd48d",
   "metadata": {},
   "source": [
    "#### 9. Mean Across Dimensions in 2D Array\n",
    "\n",
    "Write a NumPy program to calculate mean across dimension, in a 2D numpy array."
   ]
  },
  {
   "cell_type": "code",
   "execution_count": 142,
   "id": "d7bd23ea-70cc-454d-b0d0-2185d2367e79",
   "metadata": {},
   "outputs": [
    {
     "data": {
      "text/plain": [
       "array([[10, 30],\n",
       "       [20, 60]])"
      ]
     },
     "execution_count": 142,
     "metadata": {},
     "output_type": "execute_result"
    }
   ],
   "source": [
    "x = np.array([[10,30] , [20,60]])\n",
    "x"
   ]
  },
  {
   "cell_type": "code",
   "execution_count": null,
   "id": "5f0d0a74-dc50-45bf-ace9-8d1a166d096d",
   "metadata": {},
   "outputs": [],
   "source": []
  },
  {
   "cell_type": "markdown",
   "id": "e48bddef-050f-4270-885b-6ba7592b8d83",
   "metadata": {},
   "source": [
    "#### 20. Statistics on a Random Array\n",
    "\n",
    "Write a NumPy program to create a random array with 1000 elements and compute the average, variance, standard deviation of the array elements."
   ]
  },
  {
   "cell_type": "code",
   "execution_count": 144,
   "id": "063e146d-b4c1-415c-9e65-e06c0636aef8",
   "metadata": {},
   "outputs": [],
   "source": [
    "x = np.random.randn(1000)"
   ]
  },
  {
   "cell_type": "code",
   "execution_count": 146,
   "id": "7fc6bbc3-19b4-4587-b4ac-a3f396fbfe5c",
   "metadata": {},
   "outputs": [
    {
     "name": "stdout",
     "output_type": "stream",
     "text": [
      "-0.04266734606008102\n"
     ]
    }
   ],
   "source": [
    "print(x.mean())"
   ]
  },
  {
   "cell_type": "code",
   "execution_count": 147,
   "id": "b331c6b7-a314-47fe-bea8-f22753c65cfc",
   "metadata": {},
   "outputs": [
    {
     "name": "stdout",
     "output_type": "stream",
     "text": [
      "0.9958084439802629\n"
     ]
    }
   ],
   "source": [
    "print(x.std())"
   ]
  },
  {
   "cell_type": "code",
   "execution_count": 150,
   "id": "2475afc5-0d4d-4efc-99b5-bac46ee9dff2",
   "metadata": {},
   "outputs": [
    {
     "name": "stdout",
     "output_type": "stream",
     "text": [
      "0.9916344571023924\n"
     ]
    }
   ],
   "source": [
    "print(x.var())"
   ]
  },
  {
   "cell_type": "markdown",
   "id": "e2abaaf4-8b6c-41f4-8922-4ac736e924df",
   "metadata": {},
   "source": [
    "#### 21. Trigonometric Functions in Degrees\n",
    "\n",
    "Write a NumPy program to compute the trigonometric sine, cosine and tangent array of angles given in degrees."
   ]
  },
  {
   "cell_type": "code",
   "execution_count": 152,
   "id": "c9ed3368-3ba1-41f8-82fb-b7bddecae030",
   "metadata": {},
   "outputs": [
    {
     "name": "stdout",
     "output_type": "stream",
     "text": [
      "[0.         0.5        0.70710678 0.8660254  1.        ]\n",
      "[1.00000000e+00 8.66025404e-01 7.07106781e-01 5.00000000e-01\n",
      " 6.12323400e-17]\n",
      "[0.00000000e+00 5.77350269e-01 1.00000000e+00 1.73205081e+00\n",
      " 1.63312394e+16]\n"
     ]
    }
   ],
   "source": [
    "print(np.sin(np.array((0., 30., 45., 60., 90.)) * np.pi / 180.))\n",
    "print(np.cos(np.array((0., 30., 45., 60., 90.)) * np.pi / 180.))\n",
    "print(np.tan(np.array((0., 30., 45., 60., 90.)) * np.pi / 180.))"
   ]
  },
  {
   "cell_type": "markdown",
   "id": "3f277dd6-307e-4d9e-9121-d2b30b0b543f",
   "metadata": {},
   "source": [
    "#### 22. Inverse Trigonometric Functions\n",
    "\n",
    "Write a NumPy program to calculate inverse sine, inverse cosine, and inverse tangent for all elements in a given array."
   ]
  },
  {
   "cell_type": "code",
   "execution_count": 153,
   "id": "6c812a0d-3dbb-4627-b39c-f841ffd9e2f0",
   "metadata": {},
   "outputs": [],
   "source": [
    "x = np.array([-1., 0, 1.])"
   ]
  },
  {
   "cell_type": "code",
   "execution_count": 154,
   "id": "533eaf5a-92d0-434f-9744-fbcaf2b6c659",
   "metadata": {},
   "outputs": [
    {
     "name": "stdout",
     "output_type": "stream",
     "text": [
      "Inverse sine: [-1.57079633  0.          1.57079633]\n",
      "Inverse cosine: [3.14159265 1.57079633 0.        ]\n",
      "Inverse tangent: [-0.78539816  0.          0.78539816]\n"
     ]
    }
   ],
   "source": [
    "print(\"Inverse sine:\", np.arcsin(x))\n",
    "\n",
    "# Computing the inverse cosine for each element in the array\n",
    "print(\"Inverse cosine:\", np.arccos(x))\n",
    "\n",
    "# Computing the inverse tangent for each element in the array\n",
    "print(\"Inverse tangent:\", np.arctan(x)) "
   ]
  },
  {
   "cell_type": "markdown",
   "id": "07ebe916-a57e-486d-891f-def8a912ad8d",
   "metadata": {},
   "source": [
    "#### 23. Convert Radians to Degrees\n",
    "\n",
    "Write a NumPy program to convert angles from radians to degrees for all elements in a given array.\n",
    "\n",
    "Sample Input: [-np.pi, -np.pi/2, np.pi/2, np.pi]"
   ]
  },
  {
   "cell_type": "code",
   "execution_count": 155,
   "id": "d7214ebb-05a8-4579-b047-7b70a4d61e19",
   "metadata": {},
   "outputs": [
    {
     "name": "stdout",
     "output_type": "stream",
     "text": [
      "[-180.  -90.   90.  180.]\n"
     ]
    }
   ],
   "source": [
    "x = np.array([-np.pi, -np.pi/2, np.pi/2, np.pi])\n",
    "\n",
    "# Converting angles from radians to degrees using np.degrees()\n",
    "r1 = np.degrees(x)\n",
    "\n",
    "# Converting angles from radians to degrees using np.rad2deg()\n",
    "r2 = np.rad2deg(x)\n",
    "\n",
    "# Checking if the results from np.degrees() and np.rad2deg() are equivalent\n",
    "assert np.array_equiv(r1, r2)\n",
    "\n",
    "# Printing the converted angles in degrees\n",
    "print(r1) \n"
   ]
  },
  {
   "cell_type": "markdown",
   "id": "ac5a7dd3-b395-4baa-ad07-1ffdbafb1d53",
   "metadata": {},
   "source": [
    "#### 24. Convert Degrees to Radians\n",
    "\n",
    "Write a NumPy program to convert angles from degrees to radians for all elements in a given array.\n",
    "\n",
    "Sample Input: Input: [-180., -90., 90., 180.]"
   ]
  },
  {
   "cell_type": "code",
   "execution_count": 161,
   "id": "cef9b917-c6a5-4177-9e05-be94702f79db",
   "metadata": {},
   "outputs": [
    {
     "ename": "IndentationError",
     "evalue": "unexpected indent (1403801026.py, line 10)",
     "output_type": "error",
     "traceback": [
      "\u001b[1;36m  Cell \u001b[1;32mIn[161], line 10\u001b[1;36m\u001b[0m\n\u001b[1;33m    assert np.array_equiv(r1, r2)\u001b[0m\n\u001b[1;37m    ^\u001b[0m\n\u001b[1;31mIndentationError\u001b[0m\u001b[1;31m:\u001b[0m unexpected indent\n"
     ]
    }
   ],
   "source": [
    "x = np.array([-180., -90., 90., 180.])\n",
    "\n",
    "# Converting angles from degrees to radians using np.radians()\n",
    "r1 = np.radians(x)\n",
    "\n",
    "# Converting angles from degrees to radians using np.deg2rad()\n",
    "r2 = np.deg2rad(x)\n",
    "\n",
    "# Checking if the results from np.radians() and np.deg2rad() are equivalent\n",
    " assert np.array_equiv(r1, r2)"
   ]
  },
  {
   "cell_type": "code",
   "execution_count": 159,
   "id": "122be7e1-2489-48b6-a525-73cacf38b2a9",
   "metadata": {},
   "outputs": [
    {
     "data": {
      "text/plain": [
       "array([-3.14159265, -1.57079633,  1.57079633,  3.14159265])"
      ]
     },
     "execution_count": 159,
     "metadata": {},
     "output_type": "execute_result"
    }
   ],
   "source": [
    "r2"
   ]
  },
  {
   "cell_type": "code",
   "execution_count": null,
   "id": "5dc773de-f049-4967-88c8-02d9bc1f5399",
   "metadata": {},
   "outputs": [],
   "source": []
  }
 ],
 "metadata": {
  "kernelspec": {
   "display_name": "Python (base)",
   "language": "python",
   "name": "base"
  },
  "language_info": {
   "codemirror_mode": {
    "name": "ipython",
    "version": 3
   },
   "file_extension": ".py",
   "mimetype": "text/x-python",
   "name": "python",
   "nbconvert_exporter": "python",
   "pygments_lexer": "ipython3",
   "version": "3.12.7"
  }
 },
 "nbformat": 4,
 "nbformat_minor": 5
}
