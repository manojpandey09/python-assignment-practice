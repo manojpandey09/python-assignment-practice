{
 "cells": [
  {
   "cell_type": "markdown",
   "id": "b75f0a3f",
   "metadata": {},
   "source": [
    "## NumPy Sorting Searching Exercises and NumPy Advanced Indexing: Exercises"
   ]
  },
  {
   "cell_type": "markdown",
   "id": "0c238d42",
   "metadata": {},
   "source": [
    "1. Sort Array Along Different Axes\n",
    "\n",
    "Write a NumPy program to sort a given array of shape 2 along the first axis, last axis and on flattened array."
   ]
  },
  {
   "cell_type": "code",
   "execution_count": null,
   "id": "ce2224eb",
   "metadata": {},
   "outputs": [],
   "source": [
    "import numpy as np \n",
    "\n",
    "a = np.array([[10,]])"
   ]
  },
  {
   "cell_type": "markdown",
   "id": "b9cf9bda",
   "metadata": {},
   "source": [
    "2. Structured Array Sorted by Height\n",
    "\n",
    "Write a NumPy program to create a structured array from given student name, height, class and their data types. Now sort the array on height."
   ]
  },
  {
   "cell_type": "code",
   "execution_count": 8,
   "id": "86a13783",
   "metadata": {},
   "outputs": [
    {
     "name": "stdout",
     "output_type": "stream",
     "text": [
      "Original array:\n",
      "[(b'James', 5, 48.5 ) (b'Nail', 6, 52.5 ) (b'Paul', 5, 42.1 )\n",
      " (b'Pit', 5, 40.11)]\n",
      "Sort by height\n",
      "[(b'Pit', 5, 40.11) (b'Paul', 5, 42.1 ) (b'James', 5, 48.5 )\n",
      " (b'Nail', 6, 52.5 )]\n"
     ]
    }
   ],
   "source": [
    "# Importing the NumPy library\n",
    "import numpy as np\n",
    "\n",
    "# Defining the data types for the structured array\n",
    "data_type = [('name', 'S15'), ('class', int), ('height', float)]\n",
    "\n",
    "# Defining the details of students as a list of tuples\n",
    "students_details = [('James', 5, 48.5), ('Nail', 6, 52.5), ('Paul', 5, 42.10), ('Pit', 5, 40.11)]\n",
    "\n",
    "# Creating a structured array 'students' using the defined data type and provided details\n",
    "students = np.array(students_details, dtype=data_type)\n",
    "\n",
    "# Displaying the original structured array\n",
    "print(\"Original array:\")\n",
    "print(students)\n",
    "\n",
    "# Sorting the structured array by 'height' field\n",
    "print(\"Sort by height\")\n",
    "print(np.sort(students, order='height'))   \n"
   ]
  },
  {
   "cell_type": "markdown",
   "id": "3ab1a3e7",
   "metadata": {},
   "source": [
    "3. Structured Array Sorted by Class Then Height\n",
    "\n",
    "Write a NumPy program to create a structured array from given student name, height, class and their data types. Now sort by class, then height if class are equal."
   ]
  },
  {
   "cell_type": "code",
   "execution_count": 9,
   "id": "e5db9280",
   "metadata": {},
   "outputs": [
    {
     "name": "stdout",
     "output_type": "stream",
     "text": [
      "Original array:\n",
      "[(b'James', 5, 48.5 ) (b'Nail', 6, 52.5 ) (b'Paul', 5, 42.1 )\n",
      " (b'Pit', 5, 40.11)]\n",
      "Sort by class, then height if class are equal:\n",
      "[(b'Pit', 5, 40.11) (b'Paul', 5, 42.1 ) (b'James', 5, 48.5 )\n",
      " (b'Nail', 6, 52.5 )]\n"
     ]
    }
   ],
   "source": [
    "# Importing the NumPy library\n",
    "import numpy as np\n",
    "\n",
    "# Defining the data types for the structured array\n",
    "data_type = [('name', 'S15'), ('class', int), ('height', float)]\n",
    "\n",
    "# Defining the details of students as a list of tuples\n",
    "students_details = [('James', 5, 48.5), ('Nail', 6, 52.5), ('Paul', 5, 42.10), ('Pit', 5, 40.11)]\n",
    "\n",
    "# Creating a structured array 'students' using the defined data type and provided details\n",
    "students = np.array(students_details, dtype=data_type)\n",
    "\n",
    "# Displaying the original structured array\n",
    "print(\"Original array:\")\n",
    "print(students)\n",
    "\n",
    "# Sorting the structured array by 'class' and 'height' fields\n",
    "print(\"Sort by class, then height if class are equal:\")\n",
    "print(np.sort(students, order=['class', 'height'])) \n"
   ]
  },
  {
   "cell_type": "markdown",
   "id": "c69f97ef",
   "metadata": {},
   "source": [
    "4. Sort Student IDs by Increasing Height\n",
    "\n",
    "Write a NumPy program to sort the student id with increasing height of the students from given students id and height. Print the integer indices that describes the sort order by multiple columns and the sorted data."
   ]
  },
  {
   "cell_type": "code",
   "execution_count": 10,
   "id": "cea9c717",
   "metadata": {},
   "outputs": [
    {
     "name": "stdout",
     "output_type": "stream",
     "text": [
      "Sorted indices:\n",
      "[4 0 5 3 6 1 2]\n",
      "Sorted data:\n",
      "1682 38.0\n",
      "1023 40.0\n",
      "5241 40.0\n",
      "1671 41.0\n",
      "4532 42.0\n",
      "5202 42.0\n",
      "6230 45.0\n"
     ]
    }
   ],
   "source": [
    "# Importing the NumPy library\n",
    "import numpy as np\n",
    "\n",
    "# Creating NumPy arrays for student IDs and their heights\n",
    "student_id = np.array([1023, 5202, 6230, 1671, 1682, 5241, 4532])\n",
    "student_height = np.array([40., 42., 45., 41., 38., 40., 42.0])\n",
    "\n",
    "# Sorting the indices based on 'student_id' and then 'student_height'\n",
    "indices = np.lexsort((student_id, student_height))\n",
    "\n",
    "# Displaying the sorted indices\n",
    "print(\"Sorted indices:\")\n",
    "print(indices)\n",
    "\n",
    "# Displaying the sorted data based on the obtained indices\n",
    "print(\"Sorted data:\")\n",
    "for n in indices:\n",
    "    print(student_id[n], student_height[n]) \n"
   ]
  },
  {
   "cell_type": "markdown",
   "id": "88030ef3",
   "metadata": {},
   "source": [
    "5. Indices of Sorted Elements\n",
    "\n",
    "Write a NumPy program to get the indices of the sorted elements of a given array."
   ]
  },
  {
   "cell_type": "code",
   "execution_count": 11,
   "id": "5cd294ba",
   "metadata": {},
   "outputs": [
    {
     "name": "stdout",
     "output_type": "stream",
     "text": [
      "Original array:\n",
      "[1023 5202 6230 1671 1682 5241 4532]\n",
      "Indices of the sorted elements of a given array:\n",
      "[0 3 4 6 1 5 2]\n"
     ]
    }
   ],
   "source": [
    "# Importing the NumPy library\n",
    "import numpy as np\n",
    "\n",
    "# Creating a NumPy array for student IDs\n",
    "student_id = np.array([1023, 5202, 6230, 1671, 1682, 5241, 4532])\n",
    "\n",
    "# Displaying the original array\n",
    "print(\"Original array:\")\n",
    "print(student_id)\n",
    "\n",
    "# Sorting the indices of the array's elements in ascending order\n",
    "i = np.argsort(student_id)\n",
    "\n",
    "# Displaying the indices of the sorted elements\n",
    "print(\"Indices of the sorted elements of a given array:\")\n",
    "print(i) \n"
   ]
  },
  {
   "cell_type": "markdown",
   "id": "f7e0a5ad",
   "metadata": {},
   "source": [
    "6. Sort Complex Array by Real then Imaginary Part\n",
    "\n",
    "Write a NumPy program to sort a given complex array using the real part first, then the imaginary part.\n",
    "\n",
    "\n",
    "Note: \"busday\" default of Monday through Friday being valid days."
   ]
  },
  {
   "cell_type": "code",
   "execution_count": 12,
   "id": "e30ca3cd",
   "metadata": {},
   "outputs": [
    {
     "name": "stdout",
     "output_type": "stream",
     "text": [
      "Original array:\n",
      "[(1+2j), (3-1j), (3-2j), (4-3j), (3+5j)]\n",
      "\n",
      "Sorted a given complex array using the real part first, then the imaginary part.\n",
      "[1.+2.j 3.-2.j 3.-1.j 3.+5.j 4.-3.j]\n"
     ]
    }
   ],
   "source": [
    "# Importing the NumPy library\n",
    "import numpy as np\n",
    "\n",
    "# Creating a list of complex numbers\n",
    "complex_num = [1 + 2j, 3 - 1j, 3 - 2j, 4 - 3j, 3 + 5j]\n",
    "\n",
    "# Displaying the original array of complex numbers\n",
    "print(\"Original array:\")\n",
    "print(complex_num)\n",
    "\n",
    "# Sorting the given complex array using the real part first, then the imaginary part\n",
    "print(\"\\nSorted a given complex array using the real part first, then the imaginary part.\")\n",
    "print(np.sort_complex(complex_num)) \n"
   ]
  },
  {
   "cell_type": "markdown",
   "id": "17bd9ad1",
   "metadata": {},
   "source": [
    "7. Partition Array by Specified Position\n",
    "\n",
    "Write a NumPy program to partition a given array in a specified position and move all the smaller elements values to the left of the partition, and the remaining values to the right, in arbitrary order (based on random choice).\n",
    "\n",
    "\n",
    "Sample output:\n",
    "Original array:\n",
    "[ 70 50 20 30 -11 60 50 40]\n",
    "After partitioning on 4 the position:\n",
    "[-11 30 20 40 50 50 60 70]"
   ]
  },
  {
   "cell_type": "code",
   "execution_count": 13,
   "id": "27519439",
   "metadata": {},
   "outputs": [
    {
     "name": "stdout",
     "output_type": "stream",
     "text": [
      "Original array:\n",
      "[ 70  50  20  30 -11  60  50  40]\n",
      "\n",
      "After partitioning on 4 the position:\n",
      "[-11  30  20  40  50  50  60  70]\n"
     ]
    }
   ],
   "source": [
    "# Importing the NumPy library\n",
    "import numpy as np\n",
    "\n",
    "# Creating an array of integers\n",
    "nums = np.array([70, 50, 20, 30, -11, 60, 50, 40])\n",
    "\n",
    "# Displaying the original array\n",
    "print(\"Original array:\")\n",
    "print(nums)\n",
    "\n",
    "# Partitioning the array at the 4th position\n",
    "print(\"\\nAfter partitioning on 4 the position:\")\n",
    "print(np.partition(nums, 4)) \n"
   ]
  },
  {
   "cell_type": "markdown",
   "id": "de470605",
   "metadata": {},
   "source": [
    "8. Partial Sorting from the Beginning of an Array\n",
    "\n",
    "Write a NumPy program to sort the specified number of elements from beginning of a given array.\n",
    "\n",
    "\n",
    "Sample output:\n",
    "Original array:\n",
    "[0.39536213 0.11779404 0.32612381 0.16327394 0.98837963 0.25510787 0.01398678 0.15188239 0.12057667 0.67278699]\n",
    "Sorted first 5 elements:\n",
    "[0.01398678 0.11779404 0.12057667 0.15188239 0.16327394 0.25510787 0.39536213 0.98837963 0.32612381 0.67278699]"
   ]
  },
  {
   "cell_type": "code",
   "execution_count": 14,
   "id": "fd32013a",
   "metadata": {},
   "outputs": [
    {
     "name": "stdout",
     "output_type": "stream",
     "text": [
      "Original array:\n",
      "[0.723881   0.72532594 0.96228781 0.74461304 0.58295294 0.25854051\n",
      " 0.36398703 0.89243774 0.47435653 0.25449578]\n",
      "\n",
      "Sorted first 5 elements:\n",
      "[0.25449578 0.25854051 0.36398703 0.47435653 0.58295294 0.72532594\n",
      " 0.96228781 0.89243774 0.74461304 0.723881  ]\n"
     ]
    }
   ],
   "source": [
    "# Importing the NumPy library\n",
    "import numpy as np\n",
    "\n",
    "# Creating an array of 10 random numbers\n",
    "nums = np.random.rand(10)\n",
    "\n",
    "# Displaying the original array\n",
    "print(\"Original array:\")\n",
    "print(nums)\n",
    "\n",
    "# Sorting the first 5 elements using argpartition\n",
    "print(\"\\nSorted first 5 elements:\")\n",
    "print(nums[np.argpartition(nums, range(5))]) \n"
   ]
  },
  {
   "cell_type": "markdown",
   "id": "9a403ee3",
   "metadata": {},
   "source": [
    "9. Sort Array by Nth Column\n",
    "\n",
    "Write a NumPy program to sort an given array by the nth column.\n",
    "\n",
    "Original array:\n",
    "[[1 5 0]\n",
    "[3 2 5]\n",
    "[8 7 6]]\n",
    "Sort the said array by the nth column:\n",
    "[[3 2 5]\n",
    "[1 5 0]\n",
    "[8 7 6]]"
   ]
  },
  {
   "cell_type": "code",
   "execution_count": 15,
   "id": "b46a7881",
   "metadata": {},
   "outputs": [
    {
     "name": "stdout",
     "output_type": "stream",
     "text": [
      "Original array:\n",
      "\n",
      "[[6 2 5]\n",
      " [7 5 0]\n",
      " [5 1 4]]\n",
      "\n",
      "Sort the said array by the nth column: \n",
      "[[5 1 4]\n",
      " [6 2 5]\n",
      " [7 5 0]]\n"
     ]
    }
   ],
   "source": [
    "# Importing the NumPy library\n",
    "import numpy as np\n",
    "\n",
    "# Displaying a message indicating the original array is going to be printed\n",
    "print(\"Original array:\\n\")\n",
    "\n",
    "# Generating a 3x3 array of random integers from 0 to 10\n",
    "nums = np.random.randint(0, 10, (3, 3))\n",
    "\n",
    "# Displaying the original array\n",
    "print(nums)\n",
    "\n",
    "# Displaying a message indicating sorting the array by the nth column\n",
    "print(\"\\nSort the said array by the nth column: \")\n",
    "\n",
    "# Sorting the array by the values in the nth column using argsort\n",
    "print(nums[nums[:, 1].argsort()]) \n"
   ]
  },
  {
   "cell_type": "markdown",
   "id": "4652830d-6cb7-40f7-ae21-fa57fc80a53e",
   "metadata": {},
   "source": [
    "## NumPy Advanced Indexing: Exercises"
   ]
  },
  {
   "cell_type": "markdown",
   "id": "4d280958",
   "metadata": {},
   "source": [
    "1. 2D Array Random Integers & Boolean Indexing\n",
    "\n",
    "Write a NumPy program that creates a 2D NumPy array of random integers. Use boolean indexing to select all elements greater than a specified value."
   ]
  },
  {
   "cell_type": "code",
   "execution_count": 16,
   "id": "69d86a3d",
   "metadata": {},
   "outputs": [
    {
     "name": "stdout",
     "output_type": "stream",
     "text": [
      "Original 2D array:\n",
      " [[62 83 49 81 83]\n",
      " [11 75 45 74 98]\n",
      " [62 56 73 71 26]\n",
      " [90 93 76 10 93]\n",
      " [67 88 75 58  8]]\n",
      "\n",
      "Elements greater than 50:\n",
      " [62 83 81 83 75 74 98 62 56 73 71 90 93 76 93 67 88 75 58]\n"
     ]
    }
   ],
   "source": [
    "import numpy as np\n",
    "\n",
    "# Create a 2D NumPy array of random integers\n",
    "array_2d = np.random.randint(0, 100, size=(5, 5))\n",
    "\n",
    "# Specify the value for boolean indexing\n",
    "threshold = 50\n",
    "\n",
    "# Use boolean indexing to select elements greater than the threshold\n",
    "selected_elements = array_2d[array_2d > threshold]\n",
    "\n",
    "# Print the original array and the selected elements\n",
    "print('Original 2D array:\\n', array_2d)\n",
    "print(f'\\nElements greater than {threshold}:\\n', selected_elements)\n"
   ]
  },
  {
   "cell_type": "markdown",
   "id": "382b7f6f",
   "metadata": {},
   "source": [
    "2. 1D Array & Integer Array Indexing\n",
    "\n",
    "Write a NumPy program that creates a 1D NumPy array and uses integer array indexing to select a subset of elements based on an index array."
   ]
  },
  {
   "cell_type": "code",
   "execution_count": 17,
   "id": "aaaa801d",
   "metadata": {},
   "outputs": [
    {
     "name": "stdout",
     "output_type": "stream",
     "text": [
      "Original 1D array:\n",
      " [ 10  20  30  40  50  60  70  80  90 100]\n",
      "Index array:\n",
      " [0 2 4 6 8]\n",
      "Selected elements:\n",
      " [10 30 50 70 90]\n"
     ]
    }
   ],
   "source": [
    "import numpy as np\n",
    "\n",
    "# Create a 1D NumPy array\n",
    "array_1d = np.array([10, 20, 30, 40, 50, 60, 70, 80, 90, 100])\n",
    "\n",
    "# Define an index array to select specific elements\n",
    "index_array = np.array([0, 2, 4, 6, 8])\n",
    "\n",
    "# Use integer array indexing to select elements\n",
    "selected_elements = array_1d[index_array]\n",
    "\n",
    "# Print the original array and the selected elements\n",
    "print('Original 1D array:\\n', array_1d)\n",
    "print('Index array:\\n', index_array)\n",
    "print('Selected elements:\\n', selected_elements)\n"
   ]
  },
  {
   "cell_type": "markdown",
   "id": "afdbbae9",
   "metadata": {},
   "source": [
    "3. 3D Array & Fancy Indexing\n",
    "\n",
    "Write a NumPy program that creates a 3D NumPy array and uses fancy indexing to select elements from specific rows and columns."
   ]
  },
  {
   "cell_type": "code",
   "execution_count": 18,
   "id": "c773552d",
   "metadata": {},
   "outputs": [
    {
     "name": "stdout",
     "output_type": "stream",
     "text": [
      "Original 3D array:\n",
      " [[[37 41 42 70 84]\n",
      "  [45 12 33 38 76]\n",
      "  [60 82 57 52 72]\n",
      "  [79 48 40 48 58]]\n",
      "\n",
      " [[74 23 41 45 36]\n",
      "  [40 48 94 58 70]\n",
      "  [14 77 87 98 47]\n",
      "  [74  5 25 87 32]]\n",
      "\n",
      " [[13 59 63 45 12]\n",
      "  [86  2 92 61 75]\n",
      "  [82 16 60 39 13]\n",
      "  [18 31 12 77 11]]]\n",
      "Row indices:\n",
      " [0 1 2]\n",
      "Column indices:\n",
      " [1 2 3]\n",
      "Selected elements:\n",
      " [[[45 12 33 38 76]\n",
      "  [60 82 57 52 72]\n",
      "  [79 48 40 48 58]]\n",
      "\n",
      " [[40 48 94 58 70]\n",
      "  [14 77 87 98 47]\n",
      "  [74  5 25 87 32]]\n",
      "\n",
      " [[86  2 92 61 75]\n",
      "  [82 16 60 39 13]\n",
      "  [18 31 12 77 11]]]\n"
     ]
    }
   ],
   "source": [
    "import numpy as np\n",
    "\n",
    "# Create a 3D NumPy array of shape (3, 4, 5)\n",
    "array_3d = np.random.randint(0, 100, size=(3, 4, 5))\n",
    "\n",
    "# Define the row and column indices to select specific elements\n",
    "row_indices = np.array([0, 1, 2])\n",
    "col_indices = np.array([1, 2, 3])\n",
    "\n",
    "# Use fancy indexing to select elements from specific rows and columns\n",
    "selected_elements = array_3d[row_indices[:, np.newaxis], col_indices]\n",
    "\n",
    "# Print the original 3D array and the selected elements\n",
    "print('Original 3D array:\\n', array_3d)\n",
    "print('Row indices:\\n', row_indices)\n",
    "print('Column indices:\\n', col_indices)\n",
    "print('Selected elements:\\n', selected_elements)\n"
   ]
  },
  {
   "cell_type": "markdown",
   "id": "120434a0",
   "metadata": {},
   "source": [
    "4. 4D Array & Multi-dimensional Indexing\n",
    "\n",
    "Write a NumPy program that creates a 4D NumPy array and uses multi-dimensional indexing to select a subarray."
   ]
  },
  {
   "cell_type": "code",
   "execution_count": 19,
   "id": "f89c27dc",
   "metadata": {},
   "outputs": [
    {
     "name": "stdout",
     "output_type": "stream",
     "text": [
      "Original 4D array shape: (3, 4, 5, 6)\n",
      "Selected subarray shape: (2, 3, 4, 5)\n",
      "Selected subarray:\n",
      " [[[[ 3 13 53 97 92]\n",
      "   [59 22 45 79 14]\n",
      "   [65 52 66 49 74]\n",
      "   [20 65 97 80 56]]\n",
      "\n",
      "  [[51 14 57 64 17]\n",
      "   [83 46 16 51 23]\n",
      "   [75  9 21 91 13]\n",
      "   [61  7 46  7 64]]\n",
      "\n",
      "  [[27 77  2 91  3]\n",
      "   [59 54 63  2 18]\n",
      "   [11 36 24  9 73]\n",
      "   [46 58 88 71 97]]]\n",
      "\n",
      "\n",
      " [[[49 62  7 71 83]\n",
      "   [49 92 52 55 93]\n",
      "   [ 8  5 76 25 81]\n",
      "   [43 26 99  1 37]]\n",
      "\n",
      "  [[86 54 32 89 80]\n",
      "   [73 58 36 56 30]\n",
      "   [38 55 48 18 16]\n",
      "   [78 50 59 72 81]]\n",
      "\n",
      "  [[ 4 49 80 70 55]\n",
      "   [24 67 20 73 93]\n",
      "   [67 41 76 84 69]\n",
      "   [90 90 13  5 80]]]]\n"
     ]
    }
   ],
   "source": [
    "import numpy as np\n",
    "\n",
    "# Create a 4D NumPy array of shape (3, 4, 5, 6) with random integers\n",
    "array_4d = np.random.randint(0, 100, size=(3, 4, 5, 6))\n",
    "\n",
    "# Use multi-dimensional indexing to select a subarray\n",
    "# For example, select all elements from the first two blocks, \n",
    "# first three rows, first four columns, and first five depth slices\n",
    "subarray = array_4d[:2, :3, :4, :5]\n",
    "\n",
    "# Print the shape of the original 4D array and the selected subarray\n",
    "print('Original 4D array shape:', array_4d.shape)\n",
    "print('Selected subarray shape:', subarray.shape)\n",
    "print('Selected subarray:\\n', subarray)\n"
   ]
  },
  {
   "cell_type": "markdown",
   "id": "42059543",
   "metadata": {},
   "source": [
    "5. 2D Random Floats & Multiple Condition Boolean Indexing\n",
    "\n",
    "Write a NumPy program that creates a 2D NumPy array of random floats and uses boolean indexing to select elements that satisfy multiple conditions (e.g., greater than 0.5 and less than 0.8)."
   ]
  },
  {
   "cell_type": "code",
   "execution_count": 20,
   "id": "713e492c",
   "metadata": {},
   "outputs": [
    {
     "name": "stdout",
     "output_type": "stream",
     "text": [
      "Original 2D array:\n",
      " [[0.24078157 0.74098245 0.66869924 0.64398649 0.99858288]\n",
      " [0.29739968 0.59422099 0.52273859 0.03214772 0.9380528 ]\n",
      " [0.4656626  0.88616843 0.71622137 0.04467153 0.73837477]\n",
      " [0.92998099 0.57791482 0.04601077 0.55182457 0.72159867]\n",
      " [0.28696581 0.94415966 0.47814615 0.61477509 0.07607168]]\n",
      "Elements greater than 0.5 and less than 0.8:\n",
      " [0.74098245 0.66869924 0.64398649 0.59422099 0.52273859 0.71622137\n",
      " 0.73837477 0.57791482 0.55182457 0.72159867 0.61477509]\n"
     ]
    }
   ],
   "source": [
    "import numpy as np\n",
    "\n",
    "# Create a 2D NumPy array of random floats between 0 and 1\n",
    "array_2d = np.random.rand(5, 5)\n",
    "\n",
    "# Define the conditions\n",
    "condition1 = array_2d > 0.5\n",
    "condition2 = array_2d < 0.8\n",
    "\n",
    "# Use boolean indexing to select elements that satisfy both conditions\n",
    "selected_elements = array_2d[condition1 & condition2]\n",
    "\n",
    "# Print the original array and the selected elements\n",
    "print('Original 2D array:\\n', array_2d)\n",
    "print('Elements greater than 0.5 and less than 0.8:\\n', selected_elements)\n"
   ]
  },
  {
   "cell_type": "markdown",
   "id": "c998f09c",
   "metadata": {},
   "source": [
    "6. 2D Array & Integer Indexing with Broadcasting\n",
    "\n",
    "Write a NumPy program that creates a 2D NumPy array and uses integer indexing with broadcasting to select elements from specific rows and all columns."
   ]
  },
  {
   "cell_type": "code",
   "execution_count": 21,
   "id": "48b31a61",
   "metadata": {},
   "outputs": [
    {
     "name": "stdout",
     "output_type": "stream",
     "text": [
      "Original 2D array:\n",
      " [[98 61 99 91 72]\n",
      " [76 40 28 94 21]\n",
      " [32 76 87 76 49]\n",
      " [23 97 85 23 57]\n",
      " [ 9 96 45 36 79]]\n",
      "Selected rows:\n",
      " [1 3]\n",
      "Selected elements from specific rows and all columns:\n",
      " [[76 40 28 94 21]\n",
      " [23 97 85 23 57]]\n"
     ]
    }
   ],
   "source": [
    "import numpy as np\n",
    "\n",
    "# Create a 2D NumPy array of shape (5, 5) with random integers\n",
    "array_2d = np.random.randint(0, 100, size=(5, 5))\n",
    "\n",
    "# Define the row indices to select specific rows\n",
    "row_indices = np.array([1, 3])\n",
    "\n",
    "# Use integer indexing with broadcasting to select elements from specific rows and all columns\n",
    "selected_elements = array_2d[row_indices[:, np.newaxis], np.arange(array_2d.shape[1])]\n",
    "# Print the original array and the selected elements\n",
    "print('Original 2D array:\\n', array_2d)\n",
    "print('Selected rows:\\n', row_indices)\n",
    "print('Selected elements from specific rows and all columns:\\n', selected_elements)\n"
   ]
  },
  {
   "cell_type": "markdown",
   "id": "2889b913",
   "metadata": {},
   "source": [
    "7. 3D Array & Boolean Indexing Along One Axis\n",
    "\n",
    "Write a NumPy program that creates a 3D NumPy array and use boolean indexing to select elements along one axis based on conditions applied to another axis."
   ]
  },
  {
   "cell_type": "code",
   "execution_count": 22,
   "id": "e5b12cf9",
   "metadata": {},
   "outputs": [
    {
     "name": "stdout",
     "output_type": "stream",
     "text": [
      "Original 3D array:\n",
      " [[[74 48 41 70 49]\n",
      "  [85 47 79 26 58]\n",
      "  [30 96 79  5 35]\n",
      "  [78 38 24 25 74]]\n",
      "\n",
      " [[50 49 27 71 53]\n",
      "  [ 8 70 28 59 71]\n",
      "  [ 7 85 17 73 26]\n",
      "  [93 55 63 24 62]]\n",
      "\n",
      " [[14 71 74  6 49]\n",
      "  [86 92 99 12 67]\n",
      "  [19 28 53 57  9]\n",
      "  [89 81 76 66  3]]]\n",
      "Condition array (elements along second axis where first element > 50):\n",
      " [[ True  True False  True]\n",
      " [False False False  True]\n",
      " [False  True False  True]]\n",
      "Selected elements along third axis based on condition:\n",
      " [[74 48 41 70 49]\n",
      " [85 47 79 26 58]\n",
      " [78 38 24 25 74]\n",
      " [93 55 63 24 62]\n",
      " [86 92 99 12 67]\n",
      " [89 81 76 66  3]]\n"
     ]
    }
   ],
   "source": [
    "import numpy as np\n",
    "\n",
    "# Create a 3D NumPy array of shape (3, 4, 5) with random integers\n",
    "array_3d = np.random.randint(0, 100, size=(3, 4, 5))\n",
    "\n",
    "# Define the condition to apply on the second axis (axis 1)\n",
    "condition = array_3d[:, :, 0] > 50\n",
    "\n",
    "# Use boolean indexing to select elements along the third axis (axis 2)\n",
    "selected_elements = array_3d[condition]\n",
    "\n",
    "# Print the original 3D array and the selected elements\n",
    "print('Original 3D array:\\n', array_3d)\n",
    "print('Condition array (elements along second axis where first element > 50):\\n', condition)\n",
    "print('Selected elements along third axis based on condition:\\n', selected_elements)\n"
   ]
  },
  {
   "cell_type": "markdown",
   "id": "921b87c3",
   "metadata": {},
   "source": [
    "8. 2D Array & Tuple of Arrays Indexing\n",
    "\n",
    "Write a NumPy program that creates a 2D NumPy array and uses a tuple of arrays to index and select a specific set of elements."
   ]
  },
  {
   "cell_type": "code",
   "execution_count": 23,
   "id": "cef0b2f5",
   "metadata": {},
   "outputs": [
    {
     "name": "stdout",
     "output_type": "stream",
     "text": [
      "Original 3D array:\n",
      " [[[22 30 11 22 99]\n",
      "  [68 88 25 32 70]\n",
      "  [ 4  7 72  3 36]\n",
      "  [49 15 30 27 44]]\n",
      "\n",
      " [[60 57 19 62 69]\n",
      "  [14 15 20 53 20]\n",
      "  [32 66 33 77 32]\n",
      "  [12 42 18 37 25]]\n",
      "\n",
      " [[84 12 52 17 44]\n",
      "  [ 8  6  1 80  9]\n",
      "  [99 26 15 35 34]\n",
      "  [16 13 38 62 82]]]\n",
      "Condition array (elements along second axis where first element > 50):\n",
      " [[False  True False False]\n",
      " [ True False False False]\n",
      " [ True False  True False]]\n",
      "Selected elements along third axis based on condition:\n",
      " [[68 88 25 32 70]\n",
      " [60 57 19 62 69]\n",
      " [84 12 52 17 44]\n",
      " [99 26 15 35 34]]\n"
     ]
    }
   ],
   "source": [
    "import numpy as np\n",
    "\n",
    "# Create a 3D NumPy array of shape (3, 4, 5) with random integers\n",
    "array_3d = np.random.randint(0, 100, size=(3, 4, 5))\n",
    "\n",
    "# Define the condition to apply on the second axis (axis 1)\n",
    "condition = array_3d[:, :, 0] > 50\n",
    "\n",
    "# Use boolean indexing to select elements along the third axis (axis 2)\n",
    "selected_elements = array_3d[condition]\n",
    "\n",
    "# Print the original 3D array and the selected elements\n",
    "print('Original 3D array:\\n', array_3d)\n",
    "print('Condition array (elements along second axis where first element > 50):\\n', condition)\n",
    "print('Selected elements along third axis based on condition:\\n', selected_elements)\n"
   ]
  },
  {
   "cell_type": "markdown",
   "id": "7075af75",
   "metadata": {},
   "source": [
    "9. Cross-Indexing with np.ix_\n",
    "\n",
    "Write a NumPy program that creates two 1D NumPy arrays and uses np.ix_ to perform cross-indexing on a 2D array."
   ]
  },
  {
   "cell_type": "code",
   "execution_count": 24,
   "id": "8a30ae77",
   "metadata": {},
   "outputs": [
    {
     "name": "stdout",
     "output_type": "stream",
     "text": [
      "Original 2D array:\n",
      " [[61 40 81 22 58]\n",
      " [ 8 51 21 33 30]\n",
      " [36 27 24  9 90]\n",
      " [36 32 20 45 27]\n",
      " [ 6 39 92 68 30]]\n",
      "Row indices:\n",
      " [1 3]\n",
      "Column indices:\n",
      " [0 2 4]\n",
      "Selected elements using np.ix_:\n",
      " [[ 8 21 30]\n",
      " [36 20 27]]\n"
     ]
    }
   ],
   "source": [
    "import numpy as np\n",
    "\n",
    "# Create a 2D NumPy array of shape (5, 5) with random integers\n",
    "array_2d = np.random.randint(0, 100, size=(5, 5))\n",
    "\n",
    "# Create two 1D NumPy arrays for cross-indexing\n",
    "row_indices = np.array([1, 3])\n",
    "col_indices = np.array([0, 2, 4])\n",
    "\n",
    "# Use np.ix_ to create an open mesh from the row and column indices\n",
    "index_grid = np.ix_(row_indices, col_indices)\n",
    "\n",
    "# Use the index grid to select elements from the 2D array\n",
    "selected_elements = array_2d[index_grid]\n",
    "\n",
    "# Print the original array and the selected elements\n",
    "print('Original 2D array:\\n', array_2d)\n",
    "print('Row indices:\\n', row_indices)\n",
    "print('Column indices:\\n', col_indices)\n",
    "print('Selected elements using np.ix_:\\n', selected_elements)\n"
   ]
  },
  {
   "cell_type": "markdown",
   "id": "c1e1c40c",
   "metadata": {},
   "source": [
    "10. 2D Array & Boolean Indexing Replacement\n",
    "\n",
    "Write a NumPy program that creates a 2D NumPy array and uses boolean indexing to replace all elements that meet a certain condition with a specified value."
   ]
  },
  {
   "cell_type": "code",
   "execution_count": 25,
   "id": "defae5b4",
   "metadata": {},
   "outputs": [
    {
     "name": "stdout",
     "output_type": "stream",
     "text": [
      "Modified 2D array:\n",
      " [[-1 32 18 -1 -1]\n",
      " [-1  9 -1 -1 -1]\n",
      " [-1 -1 32 26 33]\n",
      " [-1 15 44 -1 13]\n",
      " [33  6 -1 -1 -1]]\n"
     ]
    }
   ],
   "source": [
    "import numpy as np\n",
    "\n",
    "# Create a 2D NumPy array of shape (5, 5) with random integers\n",
    "array_2d = np.random.randint(0, 100, size=(5, 5))\n",
    "\n",
    "# Define the condition to replace elements greater than 50\n",
    "condition = array_2d > 50\n",
    "\n",
    "# Define the value to replace the elements that meet the condition\n",
    "replacement_value = -1\n",
    "\n",
    "# Use boolean indexing to replace elements that meet the condition\n",
    "array_2d[condition] = replacement_value\n",
    "\n",
    "# Print the modified array\n",
    "print('Modified 2D array:\\n', array_2d)\n"
   ]
  }
 ],
 "metadata": {
  "kernelspec": {
   "display_name": "Python 3 (ipykernel)",
   "language": "python",
   "name": "python3"
  },
  "language_info": {
   "codemirror_mode": {
    "name": "ipython",
    "version": 3
   },
   "file_extension": ".py",
   "mimetype": "text/x-python",
   "name": "python",
   "nbconvert_exporter": "python",
   "pygments_lexer": "ipython3",
   "version": "3.12.7"
  }
 },
 "nbformat": 4,
 "nbformat_minor": 5
}
