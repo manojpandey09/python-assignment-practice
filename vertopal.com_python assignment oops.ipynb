{
 "cells": [
  {
   "cell_type": "markdown",
   "metadata": {},
   "source": [
    "### 1 - What is the primary goal of Object-Oriented Programming (OOP)?"
   ],
   "id": "7c5b28b8-3129-4332-bf12-c9ad6a6166a0"
  },
  {
   "cell_type": "markdown",
   "metadata": {},
   "source": [
    "The primary goal of oop is to organise code using objects that\n",
    "encapsulate both data and behavuious making the code modular , reuseable\n",
    "and easier to maintain,"
   ],
   "id": "485f8e40-6b7c-40de-9ec2-f288fda51f65"
  },
  {
   "cell_type": "markdown",
   "metadata": {},
   "source": [
    "### 2 - What is an object in Python?"
   ],
   "id": "956aba03-12b6-4938-871e-fc594b0bedf2"
  },
  {
   "cell_type": "markdown",
   "metadata": {},
   "source": [
    "An object is an instance of a class that contains both data attributes\n",
    "and behaviour method ."
   ],
   "id": "778ab771-8213-4621-af03-526ffe3fc82d"
  },
  {
   "cell_type": "markdown",
   "metadata": {},
   "source": [
    "### 3 - . What is a class in Python?"
   ],
   "id": "edf1d78e-d4ea-448d-bc03-bedb76a299cd"
  },
  {
   "cell_type": "markdown",
   "metadata": {},
   "source": [
    "A class is a blueprint or template for creating objects , it defines\n",
    "attribute and methods that its object will have"
   ],
   "id": "b71508dd-5d3c-4bdf-91a3-1f032580b25b"
  },
  {
   "cell_type": "markdown",
   "metadata": {},
   "source": [
    "### 4 - What are attributes and methods in a class?"
   ],
   "id": "6ebf545e-3600-49fc-88e3-b2808ab2bbd1"
  },
  {
   "cell_type": "markdown",
   "metadata": {},
   "source": [
    "Attributes - variables associated with a class or object. , eg -\n",
    "self.model ,, self.brand\n",
    "\n",
    "methods - fuctions defined inside a class that describe the behaviour of\n",
    "the object. egg - drive() , stop()."
   ],
   "id": "75839732-b598-4701-a3b5-69757b9fb718"
  },
  {
   "cell_type": "markdown",
   "metadata": {},
   "source": [
    "### 5 - What is the difference between class variables and instance variables in Python?"
   ],
   "id": "39e2a422-1660-41ba-a5e0-682b7cd6d98f"
  },
  {
   "cell_type": "markdown",
   "metadata": {},
   "source": [
    "class variable - shared by all instances of the class\n",
    "\n",
    "instance varaible - unique to each other ."
   ],
   "id": "0cbaaf1a-c713-44b7-9119-57595e070708"
  },
  {
   "cell_type": "markdown",
   "metadata": {},
   "source": [
    "### 6 - What is the purpose of the self parameter in Python class methods?"
   ],
   "id": "d61aabe0-9ede-4baf-a0d5-88b39b8c5273"
  },
  {
   "cell_type": "markdown",
   "metadata": {},
   "source": [
    "self refers to the current instance of the class it allows to instance\n",
    "attributs and methods within the class"
   ],
   "id": "ee7adbeb-fb45-4688-b28b-7df43a4ac8d6"
  },
  {
   "cell_type": "markdown",
   "metadata": {},
   "source": [
    "### 7 - Design the \"Book\" class for a library management system"
   ],
   "id": "ccbf22a8-063e-4749-a114-6117628a58f5"
  },
  {
   "cell_type": "code",
   "execution_count": 23,
   "metadata": {},
   "outputs": [],
   "source": [
    "class Book:\n",
    "    def __init__(self, title, author, isbn, publication_year, available_copies):\n",
    "        self.title = title\n",
    "        self.author = author\n",
    "        self.isbn = isbn\n",
    "        self.publication_year = publication_year\n",
    "        self.available_copies = available_copies\n",
    "\n",
    "    def check_out(self):\n",
    "        if self.available_copies > 0:\n",
    "            self.available_copies -= 1\n",
    "            print(f\"Book '{self.title}' checked out successfully.\")\n",
    "        else:\n",
    "            print(\"No copies available for checkout.\")\n",
    "\n",
    "    def return_book(self):\n",
    "        self.available_copies += 1\n",
    "        print(f\"Book '{self.title}' returned successfully.\")\n",
    "\n",
    "    def display_book_info(self):\n",
    "        print(f\"Title: {self.title}\")\n",
    "        print(f\"Author: {self.author}\")\n",
    "        print(f\"ISBN: {self.isbn}\")\n",
    "        print(f\"Publication Year: {self.publication_year}\")\n",
    "        print(f\"Available Copies: {self.available_copies}\")\n"
   ],
   "id": "8bb7879e-b3cd-458c-9fca-2113bbb25f34"
  },
  {
   "cell_type": "code",
   "execution_count": 24,
   "metadata": {},
   "outputs": [
    {
     "output_type": "stream",
     "name": "stdout",
     "text": [
      "Python Basics\n",
      "Manoj Pandey\n",
      "Title: Python Basics\n",
      "Author: Manoj Pandey\n",
      "ISBN: 123456\n",
      "Publication Year: 2023\n",
      "Available Copies: 3\n",
      "Book 'Python Basics' checked out successfully.\n",
      "Book 'Python Basics' checked out successfully.\n",
      "Book 'Python Basics' returned successfully.\n",
      "Title: Python Basics\n",
      "Author: Manoj Pandey\n",
      "ISBN: 123456\n",
      "Publication Year: 2023\n",
      "Available Copies: 2\n"
     ]
    }
   ],
   "source": [
    "\n",
    "# Object create karte hain\n",
    "book1 = Book(\"Python Basics\", \"Manoj Pandey\", \"123456\", 2023, 3)\n",
    "\n",
    "# Attributes access karna\n",
    "print(book1.title)   # Python Basics\n",
    "print(book1.author)  # Manoj Pandey\n",
    "\n",
    "book1.display_book_info()  \n",
    "\n",
    "book1.check_out()     # ek copy checkout hogi\n",
    "book1.check_out()     # dusri copy checkout hogi\n",
    "book1.return_book()   # ek copy wapas aa jayegi\n",
    "\n",
    "book1.display_book_info()\n"
   ],
   "id": "f34a71b4-3bd7-474c-9ab4-8c452e6926bb"
  },
  {
   "cell_type": "markdown",
   "metadata": {},
   "source": [
    "### 8 - Design the \"Ticket\" class for a ticket booking system"
   ],
   "id": "45d7440b-2c88-46a4-a794-75057b73688a"
  },
  {
   "cell_type": "code",
   "execution_count": 25,
   "metadata": {},
   "outputs": [
    {
     "output_type": "stream",
     "name": "stdout",
     "text": [
      "Ticket ID: 101\n",
      "Event Name: Coldplay Concert\n",
      "Event Date: 2025-09-10\n",
      "Venue: Mumbai Stadium\n",
      "Seat Number: A12\n",
      "Price: 5000\n",
      "Reserved: False\n",
      "Ticket 101 reserved successfully.\n",
      "Reservation for ticket 101 cancelled.\n"
     ]
    }
   ],
   "source": [
    "# Step 1: Class define karo (pehle run karna hai)\n",
    "class Ticket:\n",
    "    def __init__(self, ticket_id, event_name, event_date, venue, seat_number, price):\n",
    "        self.ticket_id = ticket_id\n",
    "        self.event_name = event_name\n",
    "        self.event_date = event_date\n",
    "        self.venue = venue\n",
    "        self.seat_number = seat_number\n",
    "        self.price = price\n",
    "        self.is_reserved = False\n",
    "\n",
    "    def reserve_ticket(self):\n",
    "        if not self.is_reserved:\n",
    "            self.is_reserved = True\n",
    "            print(f\"Ticket {self.ticket_id} reserved successfully.\")\n",
    "        else:\n",
    "            print(\"Ticket already reserved.\")\n",
    "\n",
    "    def cancel_reservation(self):\n",
    "        if self.is_reserved:\n",
    "            self.is_reserved = False\n",
    "            print(f\"Reservation for ticket {self.ticket_id} cancelled.\")\n",
    "        else:\n",
    "            print(\"Ticket is not reserved.\")\n",
    "\n",
    "    def display_ticket_info(self):\n",
    "        print(f\"Ticket ID: {self.ticket_id}\")\n",
    "        print(f\"Event Name: {self.event_name}\")\n",
    "        print(f\"Event Date: {self.event_date}\")\n",
    "        print(f\"Venue: {self.venue}\")\n",
    "        print(f\"Seat Number: {self.seat_number}\")\n",
    "        print(f\"Price: {self.price}\")\n",
    "        print(f\"Reserved: {self.is_reserved}\")\n",
    "\n",
    "\n",
    "# Step 2: Object create karo\n",
    "ticket1 = Ticket(101, \"Coldplay Concert\", \"2025-09-10\", \"Mumbai Stadium\", \"A12\", 5000)\n",
    "\n",
    "# Step 3: Methods call karo\n",
    "ticket1.display_ticket_info()\n",
    "ticket1.reserve_ticket()\n",
    "ticket1.cancel_reservation()\n"
   ],
   "id": "3c283842-9c63-4685-9bb6-708db05579ed"
  },
  {
   "cell_type": "markdown",
   "metadata": {},
   "source": [
    "### 9. Design the \"ShoppingCart\" class for an e-commerce website"
   ],
   "id": "0a318d42-a80c-43a8-9177-882d95b8a4ef"
  },
  {
   "cell_type": "code",
   "execution_count": 26,
   "metadata": {},
   "outputs": [],
   "source": [
    "class ShoppingCart:\n",
    "    def __init__(self):\n",
    "        # items list me dictionary store hoga {name, quantity, price}\n",
    "        self.items = []\n",
    "\n",
    "    def add_item(self, item_name, quantity, price):\n",
    "        # Check agar item already cart me hai toh quantity update kar dena\n",
    "        for item in self.items:\n",
    "            if item['name'] == item_name:\n",
    "                item['quantity'] += quantity\n",
    "                print(f\"Updated '{item_name}' quantity to {item['quantity']}.\")\n",
    "                return\n",
    "        \n",
    "        # Otherwise new item add karo\n",
    "        self.items.append({\"name\": item_name, \"quantity\": quantity, \"price\": price})\n",
    "        print(f\"Added {quantity} x '{item_name}' to the cart.\")\n",
    "\n",
    "    def remove_item(self, item_name):\n",
    "        for item in self.items:\n",
    "            if item['name'] == item_name:\n",
    "                self.items.remove(item)\n",
    "                print(f\"Removed '{item_name}' from the cart.\")\n",
    "                return\n",
    "        print(f\"'{item_name}' not found in the cart.\")\n",
    "\n",
    "    def view_cart(self):\n",
    "        if not self.items:\n",
    "            print(\"Shopping Cart is empty.\")\n",
    "            return\n",
    "        \n",
    "        print(\"\\n🛒 Shopping Cart Items:\")\n",
    "        total_price = 0\n",
    "        for item in self.items:\n",
    "            item_total = item['quantity'] * item['price']\n",
    "            total_price += item_total\n",
    "            print(f\"- {item['name']} | Qty: {item['quantity']} | Price: {item['price']} | Subtotal: {item_total}\")\n",
    "        print(f\"Total Cart Value: ₹{total_price}\\n\")\n",
    "\n",
    "    def clear_cart(self):\n",
    "        self.items = []\n",
    "        print(\"Shopping cart cleared.\")\n"
   ],
   "id": "d44afd28-1214-4cc1-985d-9c88afffad1a"
  },
  {
   "cell_type": "code",
   "execution_count": 27,
   "metadata": {},
   "outputs": [
    {
     "output_type": "stream",
     "name": "stdout",
     "text": [
      "Added 1 x 'Laptop' to the cart.\n",
      "Added 2 x 'Mobile' to the cart.\n",
      "Added 1 x 'Headphones' to the cart.\n",
      "\n",
      "🛒 Shopping Cart Items:\n",
      "- Laptop | Qty: 1 | Price: 50000 | Subtotal: 50000\n",
      "- Mobile | Qty: 2 | Price: 15000 | Subtotal: 30000\n",
      "- Headphones | Qty: 1 | Price: 2000 | Subtotal: 2000\n",
      "Total Cart Value: ₹82000\n",
      "\n",
      "Updated 'Mobile' quantity to 3.\n",
      "\n",
      "🛒 Shopping Cart Items:\n",
      "- Laptop | Qty: 1 | Price: 50000 | Subtotal: 50000\n",
      "- Mobile | Qty: 3 | Price: 15000 | Subtotal: 45000\n",
      "- Headphones | Qty: 1 | Price: 2000 | Subtotal: 2000\n",
      "Total Cart Value: ₹97000\n",
      "\n",
      "Removed 'Headphones' from the cart.\n",
      "\n",
      "🛒 Shopping Cart Items:\n",
      "- Laptop | Qty: 1 | Price: 50000 | Subtotal: 50000\n",
      "- Mobile | Qty: 3 | Price: 15000 | Subtotal: 45000\n",
      "Total Cart Value: ₹95000\n",
      "\n",
      "Shopping cart cleared.\n",
      "Shopping Cart is empty.\n"
     ]
    }
   ],
   "source": [
    "# Object create karna\n",
    "cart = ShoppingCart()\n",
    "\n",
    "# Items add karna\n",
    "cart.add_item(\"Laptop\", 1, 50000)\n",
    "cart.add_item(\"Mobile\", 2, 15000)\n",
    "cart.add_item(\"Headphones\", 1, 2000)\n",
    "\n",
    "# Cart dekhna\n",
    "cart.view_cart()\n",
    "\n",
    "# Same item dobara add karna (quantity update hogi)\n",
    "cart.add_item(\"Mobile\", 1, 15000)\n",
    "\n",
    "# Cart dekhna\n",
    "cart.view_cart()\n",
    "\n",
    "# Item remove karna\n",
    "cart.remove_item(\"Headphones\")\n",
    "\n",
    "# Cart dekhna\n",
    "cart.view_cart()\n",
    "\n",
    "# Cart clear karna\n",
    "cart.clear_cart()\n",
    "\n",
    "# Final cart dekhna\n",
    "cart.view_cart()\n"
   ],
   "id": "0918c40d-b931-4b27-97e5-1ee4519a9a11"
  },
  {
   "cell_type": "markdown",
   "metadata": {},
   "source": [
    "### 10 - Design the \"Student\" class for a school management system"
   ],
   "id": "7bdf99be-3fe0-41df-b071-7c5a1c4eb5cc"
  },
  {
   "cell_type": "code",
   "execution_count": 28,
   "metadata": {},
   "outputs": [],
   "source": [
    "class Student:\n",
    "    def __init__(self, name, age, grade, student_id):\n",
    "        self.name = name\n",
    "        self.age = age\n",
    "        self.grade = grade\n",
    "        self.student_id = student_id\n",
    "        self.attendance = {}  # key: date, value: 'present' or 'absent'\n",
    "\n",
    "    def update_attendance(self, date, status):\n",
    "        self.attendance[date] = status\n",
    "        print(f\"Attendance updated for {self.name} on {date}.\")\n",
    "\n",
    "    def get_attendance(self):\n",
    "        return self.attendance\n",
    "\n",
    "    def get_average_attendance(self):\n",
    "        total_days = len(self.attendance)\n",
    "        if total_days == 0:\n",
    "            return 0\n",
    "        present_days = sum(1 for status in self.attendance.values() if status.lower() == 'present')\n",
    "        return (present_days / total_days) * 100\n"
   ],
   "id": "d02d60fe-b40c-4326-9ae8-2c209f94872c"
  }
 ],
 "nbformat": 4,
 "nbformat_minor": 5,
 "metadata": {
  "kernelspec": {
   "name": "python3",
   "display_name": "Python 3 (ipykernel)",
   "language": "python"
  },
  "language_info": {
   "name": "python",
   "codemirror_mode": {
    "name": "ipython",
    "version": "3"
   },
   "file_extension": ".py",
   "mimetype": "text/x-python",
   "nbconvert_exporter": "python",
   "pygments_lexer": "ipython3",
   "version": "3.12.7"
  }
 }
}
