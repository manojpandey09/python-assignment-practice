{
 "cells": [
  {
   "cell_type": "markdown",
   "id": "770954ec-8d5c-40f6-a910-078b08b6035b",
   "metadata": {},
   "source": [
    "# NUMPY LINEAR ALGEBRA AND STATISTICS"
   ]
  },
  {
   "cell_type": "code",
   "execution_count": 1,
   "id": "69a993df-b35b-45db-8905-f98191a4863b",
   "metadata": {},
   "outputs": [],
   "source": [
    "import pandas as pd \n",
    "import numpy as np "
   ]
  },
  {
   "cell_type": "markdown",
   "id": "a5b8c3de-3c12-4757-9c62-9279fb329492",
   "metadata": {},
   "source": [
    "#### 1. Matrix Multiplication\n",
    "\n",
    "Write a NumPy program to compute the multiplication of two given matrixes.\n",
    "\n",
    "Sample Matrix:\n",
    "\n",
    "[[1, 0], [0, 1]]\n",
    "\n",
    "[[1, 2], [3, 4]]"
   ]
  },
  {
   "cell_type": "code",
   "execution_count": 4,
   "id": "2f85f0f4-6a75-423f-aaaf-e46bdf323e6b",
   "metadata": {},
   "outputs": [
    {
     "data": {
      "text/plain": [
       "array([[1, 0],\n",
       "       [0, 4]])"
      ]
     },
     "execution_count": 4,
     "metadata": {},
     "output_type": "execute_result"
    }
   ],
   "source": [
    "a = [[1, 0], [0, 1]]\n",
    "\n",
    "b = [[1, 2], [3, 4]]\n",
    "\n",
    "c = np.multiply(a , b)\n",
    "c"
   ]
  },
  {
   "cell_type": "code",
   "execution_count": 6,
   "id": "6218d20a-c42a-4164-b978-b0a2cfc88d9b",
   "metadata": {},
   "outputs": [
    {
     "data": {
      "text/plain": [
       "array([[1, 2],\n",
       "       [3, 4]])"
      ]
     },
     "execution_count": 6,
     "metadata": {},
     "output_type": "execute_result"
    }
   ],
   "source": [
    "result = np.dot(a,b)\n",
    "result"
   ]
  },
  {
   "cell_type": "markdown",
   "id": "9a7cdbd7-d994-4abb-a083-57f603e50952",
   "metadata": {},
   "source": [
    "#### 2. Outer Product of Vectors\n",
    "\n",
    "Write a NumPy program to compute the outer product of two given vectors.\n",
    "\n",
    "NumPy: Outer product of two vectors"
   ]
  },
  {
   "cell_type": "code",
   "execution_count": 8,
   "id": "c3de314c-0978-4b8b-8b70-7ecbda4337b4",
   "metadata": {},
   "outputs": [
    {
     "data": {
      "text/plain": [
       "array([[1, 2, 3, 4],\n",
       "       [0, 0, 0, 0],\n",
       "       [0, 0, 0, 0],\n",
       "       [1, 2, 3, 4]])"
      ]
     },
     "execution_count": 8,
     "metadata": {},
     "output_type": "execute_result"
    }
   ],
   "source": [
    "a = [[1, 0], [0, 1]]\n",
    "b = [[1, 2], [3, 4]]\n",
    "\n",
    "c = np.outer(a,b)\n",
    "c"
   ]
  },
  {
   "cell_type": "markdown",
   "id": "b6c56f49-4b21-41f2-ba7d-73d30071c6de",
   "metadata": {},
   "source": [
    "#### 3 . Cross Product of Vectors\n",
    "\n",
    "Write a NumPy program to compute the cross product of two given vectors.\n",
    "\n",
    "NumPy: Cross product of two vectors"
   ]
  },
  {
   "cell_type": "code",
   "execution_count": 12,
   "id": "23ab1778-970d-4bb7-86d5-11d94b31dc7d",
   "metadata": {},
   "outputs": [
    {
     "name": "stdout",
     "output_type": "stream",
     "text": [
      "[ 2 -3]\n",
      "[-2  3]\n"
     ]
    }
   ],
   "source": [
    "a = [[1, 0], [0, 1]]\n",
    "b = [[1, 2], [3, 4]]\n",
    "\n",
    "print(np.cross(a,b))\n",
    "print(np.cross(b,a))"
   ]
  },
  {
   "cell_type": "markdown",
   "id": "0adfbad9-6f28-46e7-9347-a6caa65f6b0e",
   "metadata": {},
   "source": [
    "#### 4. Determinant of a Square Array\n",
    "\n",
    "Write a NumPy program to compute the determinant of a given square array.\n",
    "\n",
    "From Wikipedia: In linear algebra, the determinant is a value that can be computed from the elements of a square matrix. The determinant of a matrix A is denoted det(A), det A, or |A|. Geometrically, it can be viewed as the scaling factor of the linear transformation described by the matrix.\n",
    "\n",
    "In the case of a 2 × 2 matrix the determinant may be defined as:"
   ]
  },
  {
   "cell_type": "code",
   "execution_count": 13,
   "id": "20f814be-cdc5-4758-8a3b-8f03211fa6c6",
   "metadata": {},
   "outputs": [
    {
     "name": "stdout",
     "output_type": "stream",
     "text": [
      "[[1 0]\n",
      " [1 2]]\n"
     ]
    }
   ],
   "source": [
    "from numpy import linalg as LA \n",
    "a = np.array([[1,0] , [1,2]])\n",
    "print(a)"
   ]
  },
  {
   "cell_type": "code",
   "execution_count": 14,
   "id": "b2927637-bba2-4fff-9ad2-905c6bba0be3",
   "metadata": {},
   "outputs": [
    {
     "name": "stdout",
     "output_type": "stream",
     "text": [
      "2.0\n"
     ]
    }
   ],
   "source": [
    "print(np.linalg.det(a))"
   ]
  },
  {
   "cell_type": "markdown",
   "id": "f1d55363-ab57-44e2-80c0-fbc167467546",
   "metadata": {},
   "source": [
    "#### 5. Einstein Summation Convention\n",
    "\n",
    "Write a NumPy program to evaluate Einstein’s summation convention of two given multidimensional arrays."
   ]
  },
  {
   "cell_type": "code",
   "execution_count": 21,
   "id": "a885ab73-d046-4856-82b9-5320ae4f80d0",
   "metadata": {},
   "outputs": [],
   "source": [
    "a = ([1,2,3])\n",
    "b = ([0,1,0])"
   ]
  },
  {
   "cell_type": "code",
   "execution_count": 22,
   "id": "92bbc4d0-2a2c-499e-af70-ad222d400609",
   "metadata": {},
   "outputs": [
    {
     "data": {
      "text/plain": [
       "2"
      ]
     },
     "execution_count": 22,
     "metadata": {},
     "output_type": "execute_result"
    }
   ],
   "source": [
    "result = np.einsum(\"n , n\" , a, b)\n",
    "result"
   ]
  },
  {
   "cell_type": "code",
   "execution_count": 23,
   "id": "570d92e4-0218-46f4-8e7b-1c92eb7f7277",
   "metadata": {},
   "outputs": [],
   "source": [
    "x = np.arange(9).reshape(3, 3)\n",
    "y = np.arange(3, 12).reshape(3, 3)\n"
   ]
  },
  {
   "cell_type": "code",
   "execution_count": 24,
   "id": "08e3266e-5534-4d1b-a622-4fe5640cd28a",
   "metadata": {},
   "outputs": [
    {
     "data": {
      "text/plain": [
       "array([[0, 1, 2],\n",
       "       [3, 4, 5],\n",
       "       [6, 7, 8]])"
      ]
     },
     "execution_count": 24,
     "metadata": {},
     "output_type": "execute_result"
    }
   ],
   "source": [
    "x"
   ]
  },
  {
   "cell_type": "code",
   "execution_count": 25,
   "id": "e120257f-ea8a-4501-aa46-25e2ba441ce9",
   "metadata": {},
   "outputs": [
    {
     "data": {
      "text/plain": [
       "array([[ 3,  4,  5],\n",
       "       [ 6,  7,  8],\n",
       "       [ 9, 10, 11]])"
      ]
     },
     "execution_count": 25,
     "metadata": {},
     "output_type": "execute_result"
    }
   ],
   "source": [
    "y"
   ]
  },
  {
   "cell_type": "markdown",
   "id": "69ba0aab-605d-4148-9a79-d92bbd9db74c",
   "metadata": {},
   "source": [
    "#### 6. Inner Product of Vectors\n",
    "\n",
    "Write a NumPy program to compute the inner product of vectors for 1-D arrays (without complex conjugation) and in higher dimension.\n",
    "\n",
    "Sample Solution:"
   ]
  },
  {
   "cell_type": "code",
   "execution_count": 26,
   "id": "6716c1ea-e1f9-49d3-b7c5-cfe1ac2c1bed",
   "metadata": {},
   "outputs": [],
   "source": [
    "a = np.array([1, 2, 5])\n",
    "b = np.array([2, 1, 0])"
   ]
  },
  {
   "cell_type": "code",
   "execution_count": 28,
   "id": "2096bf8e-9cd1-4247-8e50-782579d477bf",
   "metadata": {},
   "outputs": [
    {
     "data": {
      "text/plain": [
       "4"
      ]
     },
     "execution_count": 28,
     "metadata": {},
     "output_type": "execute_result"
    }
   ],
   "source": [
    "result = np.inner(a,b)\n",
    "result"
   ]
  },
  {
   "cell_type": "markdown",
   "id": "38f384f3-6386-40c9-87f7-bed5b2df4a7f",
   "metadata": {},
   "source": [
    "#### 7. Matrix or Vector Norm\n",
    "\n",
    "Write a NumPy program to find a matrix or vector norm.."
   ]
  },
  {
   "cell_type": "code",
   "execution_count": 31,
   "id": "42fc01f2-1a2a-401f-b9c7-fc1fffd37c60",
   "metadata": {},
   "outputs": [
    {
     "data": {
      "text/plain": [
       "array([0, 1, 2, 3, 4, 5, 6])"
      ]
     },
     "execution_count": 31,
     "metadata": {},
     "output_type": "execute_result"
    }
   ],
   "source": [
    "a = np.arange(7)\n",
    "a"
   ]
  },
  {
   "cell_type": "code",
   "execution_count": 34,
   "id": "ba78808f-924c-472a-8901-1e7ce41a032d",
   "metadata": {},
   "outputs": [
    {
     "data": {
      "text/plain": [
       "9.539392014169456"
      ]
     },
     "execution_count": 34,
     "metadata": {},
     "output_type": "execute_result"
    }
   ],
   "source": [
    "b = np.linalg.norm(a)\n",
    "b"
   ]
  },
  {
   "cell_type": "code",
   "execution_count": 36,
   "id": "898f8b30-443a-4dce-a395-6836db4a8612",
   "metadata": {},
   "outputs": [
    {
     "data": {
      "text/plain": [
       "matrix([[1, 2],\n",
       "        [3, 4]])"
      ]
     },
     "execution_count": 36,
     "metadata": {},
     "output_type": "execute_result"
    }
   ],
   "source": [
    "m = np.matrix('1,2; 3 ,4')\n",
    "m"
   ]
  },
  {
   "cell_type": "code",
   "execution_count": 37,
   "id": "6aa90f5a-0b4c-4b2d-8434-60957f08da8d",
   "metadata": {},
   "outputs": [
    {
     "data": {
      "text/plain": [
       "5.477225575051661"
      ]
     },
     "execution_count": 37,
     "metadata": {},
     "output_type": "execute_result"
    }
   ],
   "source": [
    "np.linalg.norm(m)"
   ]
  },
  {
   "cell_type": "markdown",
   "id": "3db9a805-04b6-4bb2-bedc-3e85178bef0b",
   "metadata": {},
   "source": [
    "#### 8. Inverse of a Matrix\n",
    "\n",
    "Write a NumPy program to compute the inverse of a given matrix."
   ]
  },
  {
   "cell_type": "code",
   "execution_count": 38,
   "id": "02cb297f-87c4-4690-89ed-aa1844af7d51",
   "metadata": {},
   "outputs": [],
   "source": [
    "a = np.array([[1,2] , [3,4]])\n"
   ]
  },
  {
   "cell_type": "code",
   "execution_count": 39,
   "id": "c2b24555-1b15-4b91-9d81-2edb981a3b5b",
   "metadata": {},
   "outputs": [
    {
     "data": {
      "text/plain": [
       "array([[-2. ,  1. ],\n",
       "       [ 1.5, -0.5]])"
      ]
     },
     "execution_count": 39,
     "metadata": {},
     "output_type": "execute_result"
    }
   ],
   "source": [
    "np.linalg.inv(a)"
   ]
  },
  {
   "cell_type": "markdown",
   "id": "91dd35a0-2334-4aad-8124-3b1971346681",
   "metadata": {},
   "source": [
    "## Statistics"
   ]
  },
  {
   "cell_type": "markdown",
   "id": "eb30f45c-38cf-422e-90bb-f2174fd2e824",
   "metadata": {},
   "source": [
    "#### 1. Maximum and Minimum of Flattened Array\n",
    "\n",
    "Write a Python program to find the maximum and minimum value of a given flattened array."
   ]
  },
  {
   "cell_type": "code",
   "execution_count": 43,
   "id": "45cd0a74-1feb-4101-b004-c31f0a90348a",
   "metadata": {},
   "outputs": [
    {
     "data": {
      "text/plain": [
       "array([[0, 1],\n",
       "       [2, 3]])"
      ]
     },
     "execution_count": 43,
     "metadata": {},
     "output_type": "execute_result"
    }
   ],
   "source": [
    "A = np.arange(4).reshape(2,2)\n",
    "A"
   ]
  },
  {
   "cell_type": "code",
   "execution_count": 44,
   "id": "def45547-83e6-4d5b-adeb-d05d2c623157",
   "metadata": {},
   "outputs": [
    {
     "data": {
      "text/plain": [
       "0"
      ]
     },
     "execution_count": 44,
     "metadata": {},
     "output_type": "execute_result"
    }
   ],
   "source": [
    "np.amin(A)"
   ]
  },
  {
   "cell_type": "code",
   "execution_count": 46,
   "id": "db77f850-33f7-45aa-9d8f-98a4c3f6d8fd",
   "metadata": {},
   "outputs": [
    {
     "data": {
      "text/plain": [
       "3"
      ]
     },
     "execution_count": 46,
     "metadata": {},
     "output_type": "execute_result"
    }
   ],
   "source": [
    "np.max(A)"
   ]
  },
  {
   "cell_type": "markdown",
   "id": "dffe5d7c-b769-409c-9c79-1f37fc3f03a5",
   "metadata": {},
   "source": [
    "#### 2. Minimum and Maximum Along Second Axis\n",
    "\n",
    "Write a NumPy program to get the minimum and maximum value of a given array along the second axis."
   ]
  },
  {
   "cell_type": "code",
   "execution_count": 50,
   "id": "aa45b2ce-f30e-4e12-b3f9-e38402e04d1a",
   "metadata": {},
   "outputs": [
    {
     "data": {
      "text/plain": [
       "array([[0, 1, 2, 3, 4],\n",
       "       [5, 6, 7, 8, 9]])"
      ]
     },
     "execution_count": 50,
     "metadata": {},
     "output_type": "execute_result"
    }
   ],
   "source": [
    "a = np.arange(10).reshape(2,5)\n",
    "a"
   ]
  },
  {
   "cell_type": "code",
   "execution_count": 53,
   "id": "c57910ed-dd18-4dfc-b6fc-af853e764a7a",
   "metadata": {},
   "outputs": [
    {
     "data": {
      "text/plain": [
       "array([4, 9])"
      ]
     },
     "execution_count": 53,
     "metadata": {},
     "output_type": "execute_result"
    }
   ],
   "source": [
    "np.max(a,1)"
   ]
  },
  {
   "cell_type": "code",
   "execution_count": 54,
   "id": "5345aef0-8136-412c-afb0-77efd9b5c2c7",
   "metadata": {},
   "outputs": [
    {
     "data": {
      "text/plain": [
       "array([0, 5])"
      ]
     },
     "execution_count": 54,
     "metadata": {},
     "output_type": "execute_result"
    }
   ],
   "source": [
    "np.min(a,1)"
   ]
  },
  {
   "cell_type": "markdown",
   "id": "5a23a66b-8dd6-4946-a464-30d02f74d606",
   "metadata": {},
   "source": [
    "#### 3. Range (Difference Between Max and Min) Along Second Axis\n",
    "\n",
    "Write a NumPy program to calculate the difference between the maximum and the minimum values of a given array along the second axis."
   ]
  },
  {
   "cell_type": "code",
   "execution_count": 66,
   "id": "f53b5e8e-1b67-415e-851f-b93e8d529360",
   "metadata": {},
   "outputs": [
    {
     "data": {
      "text/plain": [
       "array([[ 0,  1,  2],\n",
       "       [ 3,  4,  5],\n",
       "       [ 6,  7,  8],\n",
       "       [ 9, 10, 11]])"
      ]
     },
     "execution_count": 66,
     "metadata": {},
     "output_type": "execute_result"
    }
   ],
   "source": [
    "a = np.arange(12).reshape(4,3)\n",
    "a"
   ]
  },
  {
   "cell_type": "code",
   "execution_count": 73,
   "id": "e5470ef6-bb96-4ecc-985c-39a878471bcf",
   "metadata": {},
   "outputs": [],
   "source": [
    "b = np.ptp(a,1)\n",
    "c = np.amax(a,1) - np.min(a,1)"
   ]
  },
  {
   "cell_type": "code",
   "execution_count": 74,
   "id": "d60db487-e4bf-41a0-aee7-47e0f1981621",
   "metadata": {},
   "outputs": [
    {
     "data": {
      "text/plain": [
       "array([2, 2, 2, 2])"
      ]
     },
     "execution_count": 74,
     "metadata": {},
     "output_type": "execute_result"
    }
   ],
   "source": [
    "b"
   ]
  },
  {
   "cell_type": "code",
   "execution_count": 78,
   "id": "821b02f5-4a6f-41ef-a047-bdb56ddeef8d",
   "metadata": {},
   "outputs": [
    {
     "data": {
      "text/plain": [
       "array([2, 2, 2, 2])"
      ]
     },
     "execution_count": 78,
     "metadata": {},
     "output_type": "execute_result"
    }
   ],
   "source": [
    "c"
   ]
  },
  {
   "cell_type": "markdown",
   "id": "1dc7429e-1667-41c2-b567-8856d3f70f59",
   "metadata": {},
   "source": [
    "#### 4. 80th Percentile Along Second Axis\n",
    "\n",
    "Write a NumPy program to compute the 80th percentile for all elements in a given array along the second axis."
   ]
  },
  {
   "cell_type": "code",
   "execution_count": 80,
   "id": "38899cf3-9c42-44e3-9be4-12561748b551",
   "metadata": {},
   "outputs": [
    {
     "data": {
      "text/plain": [
       "array([[0, 1, 2, 3, 4],\n",
       "       [5, 6, 7, 8, 9]])"
      ]
     },
     "execution_count": 80,
     "metadata": {},
     "output_type": "execute_result"
    }
   ],
   "source": [
    "a = np.arange(10).reshape(2,5)\n",
    "a"
   ]
  },
  {
   "cell_type": "code",
   "execution_count": 81,
   "id": "e819e1ed-37ed-4419-95f4-f0db12313cf3",
   "metadata": {},
   "outputs": [
    {
     "data": {
      "text/plain": [
       "0.09"
      ]
     },
     "execution_count": 81,
     "metadata": {},
     "output_type": "execute_result"
    }
   ],
   "source": [
    "np.percentile(a,1)"
   ]
  },
  {
   "cell_type": "markdown",
   "id": "18c2e924-4305-4c94-9e35-dc9ed729e1f8",
   "metadata": {},
   "source": [
    "#### 5. Median of Flattened Array\n",
    "\n",
    "From Wikipedia: The median is the value separating the higher half from the lower half of a data sample (a population or a probability distribution). For a data set, it may be thought of as the \"middle\" value."
   ]
  },
  {
   "cell_type": "code",
   "execution_count": 84,
   "id": "188c7ff7-327c-42a2-9038-a5beefd47473",
   "metadata": {},
   "outputs": [
    {
     "data": {
      "text/plain": [
       "array([[ 0,  1,  2,  3,  4,  5],\n",
       "       [ 6,  7,  8,  9, 10, 11]])"
      ]
     },
     "execution_count": 84,
     "metadata": {},
     "output_type": "execute_result"
    }
   ],
   "source": [
    "a = np.arange(12).reshape((2,6))\n",
    "a"
   ]
  },
  {
   "cell_type": "code",
   "execution_count": 86,
   "id": "bf33ca41-f642-440c-b00d-05af06db00cf",
   "metadata": {},
   "outputs": [
    {
     "data": {
      "text/plain": [
       "5.5"
      ]
     },
     "execution_count": 86,
     "metadata": {},
     "output_type": "execute_result"
    }
   ],
   "source": [
    "np.median(a)"
   ]
  },
  {
   "cell_type": "markdown",
   "id": "115b9c9f-222d-4015-956d-cc5eef1f889c",
   "metadata": {},
   "source": [
    "#### 8. Covariance Matrix of Two Arrays\n",
    "\n",
    "Write a NumPy program to compute the covariance matrix of two given arrays."
   ]
  },
  {
   "cell_type": "code",
   "execution_count": 87,
   "id": "f02d92f3-9a5e-4513-802f-e84710d7c32f",
   "metadata": {},
   "outputs": [],
   "source": [
    "x = np.array([0,1,2])\n",
    "y = np.array([2,1,0])"
   ]
  },
  {
   "cell_type": "code",
   "execution_count": 88,
   "id": "21c1e496-fbe9-4e87-8d17-fbd42f50a74c",
   "metadata": {},
   "outputs": [
    {
     "data": {
      "text/plain": [
       "array([[ 1., -1.],\n",
       "       [-1.,  1.]])"
      ]
     },
     "execution_count": 88,
     "metadata": {},
     "output_type": "execute_result"
    }
   ],
   "source": [
    "np.cov(x,y)"
   ]
  },
  {
   "cell_type": "markdown",
   "id": "79183f9c-9ead-4364-b298-3b1331042fe2",
   "metadata": {},
   "source": [
    "#### 9. Cross-Correlation of Two Arrays\n",
    "\n",
    "Write a NumPy program to compute cross-correlation of two given arrays"
   ]
  },
  {
   "cell_type": "code",
   "execution_count": 94,
   "id": "91714d7a-8eb6-418f-99d1-dfe7630571c3",
   "metadata": {},
   "outputs": [],
   "source": [
    "x = np.array([0,1,3])\n",
    "y = np.array([2,4,5])"
   ]
  },
  {
   "cell_type": "code",
   "execution_count": 95,
   "id": "02d492f4-eff5-47f2-b677-fd3a0eda9b7e",
   "metadata": {},
   "outputs": [
    {
     "data": {
      "text/plain": [
       "array([19])"
      ]
     },
     "execution_count": 95,
     "metadata": {},
     "output_type": "execute_result"
    }
   ],
   "source": [
    "np.correlate(x,y)"
   ]
  },
  {
   "cell_type": "markdown",
   "id": "a82ef286-3f53-4c88-9f0d-b1a39f059e34",
   "metadata": {},
   "source": [
    "#### 10. Pearson Product-Moment Correlation Coefficients\n",
    "\n",
    "Write a NumPy program to compute pearson product-moment correlation coefficients of two given arrays"
   ]
  },
  {
   "cell_type": "code",
   "execution_count": 96,
   "id": "df34e4ef-7f62-4a53-906a-431ab42caa38",
   "metadata": {},
   "outputs": [],
   "source": [
    "a = np.array([0,1,3])\n",
    "y = np.array([2,4,5])"
   ]
  },
  {
   "cell_type": "code",
   "execution_count": 98,
   "id": "23011913-c87a-429a-921f-33edd13a08ba",
   "metadata": {},
   "outputs": [
    {
     "data": {
      "text/plain": [
       "array([[1.        , 0.92857143],\n",
       "       [0.92857143, 1.        ]])"
      ]
     },
     "execution_count": 98,
     "metadata": {},
     "output_type": "execute_result"
    }
   ],
   "source": [
    "np.corrcoef(a,y)"
   ]
  },
  {
   "cell_type": "markdown",
   "id": "fb61a98d-f6c5-46a8-871e-5ab06b7601d7",
   "metadata": {},
   "source": [
    "#### 11 . Compute Histogram of Data Against Bins\n",
    "\n",
    "Write a NumPy program to compute the histogram of nums against the bins."
   ]
  },
  {
   "cell_type": "code",
   "execution_count": 99,
   "id": "21f6519a-990f-4013-b5d6-781b292c46b3",
   "metadata": {},
   "outputs": [],
   "source": [
    "import matplotlib.pyplot as plt "
   ]
  },
  {
   "cell_type": "code",
   "execution_count": 108,
   "id": "28354d01-8669-471b-9078-1a57d8f4e0bc",
   "metadata": {},
   "outputs": [
    {
     "data": {
      "text/plain": [
       "array([0.5, 0.7, 1. , 1.2, 1.3, 2.1])"
      ]
     },
     "execution_count": 108,
     "metadata": {},
     "output_type": "execute_result"
    }
   ],
   "source": [
    "n = np.array([0.5 , 0.7 , 1.0 , 1.2 , 1.3 , 2.1])\n",
    "n"
   ]
  },
  {
   "cell_type": "code",
   "execution_count": 109,
   "id": "4f411a95-5cb3-46a5-bb37-f85b54ef105d",
   "metadata": {},
   "outputs": [
    {
     "data": {
      "text/plain": [
       "array([0, 1, 2, 3])"
      ]
     },
     "execution_count": 109,
     "metadata": {},
     "output_type": "execute_result"
    }
   ],
   "source": [
    "bins = np.array([0,1,2,3])\n",
    "o"
   ]
  },
  {
   "cell_type": "code",
   "execution_count": 110,
   "id": "1109fd7b-2491-4c93-bc73-faaf8397942f",
   "metadata": {},
   "outputs": [
    {
     "data": {
      "text/plain": [
       "(array([2, 3, 1], dtype=int64), array([0, 1, 2, 3]))"
      ]
     },
     "execution_count": 110,
     "metadata": {},
     "output_type": "execute_result"
    }
   ],
   "source": [
    "np.histogram(n , o)"
   ]
  },
  {
   "cell_type": "code",
   "execution_count": 128,
   "id": "0cc15f02-a34e-4e46-b802-571d628660a3",
   "metadata": {},
   "outputs": [
    {
     "data": {
      "image/png": "[encoded data removed]",
      "text/plain": [
       "<Figure size 640x480 with 1 Axes>"
      ]
     },
     "metadata": {},
     "output_type": "display_data"
    }
   ],
   "source": [
    "\n",
    "plt.hist(n, bins=o)\n",
    "plt.show() \n"
   ]
  },
  {
   "cell_type": "code",
   "execution_count": null,
   "id": "413e0564-a5d3-4280-a88e-6996524747e2",
   "metadata": {},
   "outputs": [],
   "source": []
  },
  {
   "cell_type": "code",
   "execution_count": null,
   "id": "1d29c6bb-9c77-49ed-87cf-e01c08d80f40",
   "metadata": {},
   "outputs": [],
   "source": []
  }
 ],
 "metadata": {
  "kernelspec": {
   "display_name": "Python (base)",
   "language": "python",
   "name": "base"
  },
  "language_info": {
   "codemirror_mode": {
    "name": "ipython",
    "version": 3
   },
   "file_extension": ".py",
   "mimetype": "text/x-python",
   "name": "python",
   "nbconvert_exporter": "python",
   "pygments_lexer": "ipython3",
   "version": "3.12.7"
  }
 },
 "nbformat": 4,
 "nbformat_minor": 5
}
