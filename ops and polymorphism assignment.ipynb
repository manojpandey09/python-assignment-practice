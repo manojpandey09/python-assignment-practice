{
 "cells": [
  {
   "cell_type": "markdown",
   "id": "476a0799-6327-4370-a418-8654d47fcbd7",
   "metadata": {},
   "source": [
    "### Assignnment\n",
    "\n",
    "\n",
    "1. the `Person` class has a constructor that takes `name` and `age` as arguments and assigns them to the object's attributes. The `introduce` method is then invoked on the object to introduce the person.\n",
    "\n",
    "2. the `Car` class has a constructor that takes `brand` and `model` as arguments and assigns them to the object's attributes. The `display_info` method is then invoked on the object to display the car's brand and model.\n",
    "\n",
    "3. the `BankAccount` class has a constructor that takes `account_number` and `balance` as arguments and assigns them to the object's attributes. The `display_balance` method is then invoked on the object to display the account number and balance.\n",
    "\n",
    "4.  the `MobilePhone` class has a constructor that takes `brand` and `model` as arguments and assigns them to the object's attributes. The `make_call` method is then invoked on the object to make a call with the phone.\n",
    "\n",
    "5. the `Book` class has a constructor that takes `title` and `author` as arguments and assigns them to the object's attributes. The `display_info` method is then invoked on the object to display the book's title and author.\n",
    "\n",
    "6. Vehicles: Create a base class called Vehicle with attributes such as make, model, and year. Implement two subclasses Car and Motorcycle that inherit from Vehicle. Add additional methods to the subclasses, such as start_engine() and stop_engine(), and handle any specific behavior or rules for each vehicle type.\n"
   ]
  },
  {
   "cell_type": "markdown",
   "id": "724e360d-6422-4353-b128-19a394cc6cd4",
   "metadata": {},
   "source": [
    "### 1"
   ]
  },
  {
   "cell_type": "code",
   "execution_count": 30,
   "id": "f48eef22-12a3-4aa1-b2f6-ff967c047169",
   "metadata": {},
   "outputs": [],
   "source": [
    "#1\n",
    "\n",
    "\n",
    "class person:\n",
    "    def __init__(self , name ,age ):\n",
    "        self.name = name \n",
    "        self.age = age \n",
    "\n",
    "    def introduce(self):\n",
    "        print(f\"hi my name is {self.name} and my age is {self.age} years old\")\n"
   ]
  },
  {
   "cell_type": "code",
   "execution_count": 36,
   "id": "3533c64a-12a5-4c15-b407-85786e680952",
   "metadata": {},
   "outputs": [
    {
     "name": "stdout",
     "output_type": "stream",
     "text": [
      "hi my name is manoj and my age is 19 years old\n"
     ]
    }
   ],
   "source": [
    "assign = person('manoj' , 19)\n",
    "assign.introduce()"
   ]
  },
  {
   "cell_type": "markdown",
   "id": "a73a3d93-dfa0-4036-a9a5-9706fd9c8891",
   "metadata": {},
   "source": [
    "### 2"
   ]
  },
  {
   "cell_type": "code",
   "execution_count": 42,
   "id": "58745493-5ed3-4c56-bc10-809c8f51f7dc",
   "metadata": {},
   "outputs": [],
   "source": [
    "class car:\n",
    "    def __init__(self , brand , model ):\n",
    "        self.brand = brand\n",
    "        self.model = model\n",
    "\n",
    "    def display_info(self):\n",
    "        print(f\" my car is {self.brand} from india and my manufacuturig model is {self.model}\")"
   ]
  },
  {
   "cell_type": "code",
   "execution_count": 46,
   "id": "179a6fd7-5c72-4b20-8031-e7afaec233d5",
   "metadata": {},
   "outputs": [
    {
     "name": "stdout",
     "output_type": "stream",
     "text": [
      " my car is maruti from india and my manufacuturig model is 2019\n"
     ]
    }
   ],
   "source": [
    "showroom = car(\"maruti\" , 2019)\n",
    "showroom.display_info()"
   ]
  },
  {
   "cell_type": "markdown",
   "id": "246804cf-76e1-4d66-bdd1-c2c5a3d7eef2",
   "metadata": {},
   "source": [
    "### 3"
   ]
  },
  {
   "cell_type": "code",
   "execution_count": 49,
   "id": "e7ea9a5b-fb9d-4d31-8afd-ec3193e2f25a",
   "metadata": {},
   "outputs": [],
   "source": [
    "class BankAccount:\n",
    "    def __init__(self, account_number, balance):\n",
    "        self.account_number = account_number\n",
    "        self.balance = balance\n",
    "\n",
    "    def display_balance(self):\n",
    "        print(f\"Account Number: {self.account_number}, Balance: ₹{self.balance:.2f}\")\n"
   ]
  },
  {
   "cell_type": "code",
   "execution_count": 51,
   "id": "05322dcf-7dc0-418d-a07d-af52ee779453",
   "metadata": {},
   "outputs": [
    {
     "name": "stdout",
     "output_type": "stream",
     "text": [
      "Account Number: SBIN0001234, Balance: ₹50000.00\n"
     ]
    }
   ],
   "source": [
    "my_account = BankAccount(\"SBIN0001234\", 50000.00)\n",
    "my_account.display_balance()"
   ]
  },
  {
   "cell_type": "markdown",
   "id": "448a31dc-a502-4d2d-868c-d334f46cfaa8",
   "metadata": {},
   "source": [
    "### 4"
   ]
  },
  {
   "cell_type": "code",
   "execution_count": 57,
   "id": "be8e9054-a8b8-4104-9701-3daa469c97f9",
   "metadata": {},
   "outputs": [],
   "source": [
    "class MobilePhone:\n",
    "    def __init__(self, brand, model):\n",
    "        self.brand = brand\n",
    "        self.model = model\n",
    "\n",
    "    def make_call(self):\n",
    "        print(f\"Calling from {self.brand} {self.model}...\")"
   ]
  },
  {
   "cell_type": "code",
   "execution_count": 61,
   "id": "0ba7b18b-68c0-4d3f-aad3-8b0a9c97f88f",
   "metadata": {},
   "outputs": [
    {
     "name": "stdout",
     "output_type": "stream",
     "text": [
      "Calling from Samsung Galaxy S21...\n"
     ]
    }
   ],
   "source": [
    "\n",
    "my_phone = MobilePhone(\"Samsung\", \"Galaxy S21\")\n",
    "my_phone.make_call()"
   ]
  },
  {
   "cell_type": "markdown",
   "id": "2332372c-0415-47b3-8498-b6b70b52ba64",
   "metadata": {},
   "source": [
    "### 5"
   ]
  },
  {
   "cell_type": "code",
   "execution_count": 77,
   "id": "c062b8ce-67f7-4bcf-9918-7e93279f8e3c",
   "metadata": {},
   "outputs": [
    {
     "name": "stdout",
     "output_type": "stream",
     "text": [
      "Title: To Kill a Mockingbird, Author: Harper Lee\n"
     ]
    }
   ],
   "source": [
    "class Book:\n",
    "    def __init__(self, title, author):\n",
    "        self.title = title\n",
    "        self.author = author\n",
    "\n",
    "    def display_info(self):\n",
    "        print(f\"Title: {self.title}, Author: {self.author}\")\n",
    "\n",
    "my_book = Book(\"To Kill a Mockingbird\", \"Harper Lee\")\n",
    "my_book.display_info()"
   ]
  },
  {
   "cell_type": "markdown",
   "id": "3f00be17-0afa-4c6d-86a9-02541430ba96",
   "metadata": {},
   "source": [
    "### 6"
   ]
  },
  {
   "cell_type": "code",
   "execution_count": 80,
   "id": "89716520-6489-4e00-95f4-a297a9104e36",
   "metadata": {},
   "outputs": [],
   "source": [
    "#class = vechile  ,\n",
    "# attributes  = moke , model year\n",
    "# two subclass = car and motercycle inherit from vechile \n",
    "# additional method to subclass such as start engine and stop enginr "
   ]
  },
  {
   "cell_type": "code",
   "execution_count": 90,
   "id": "6b6c8096-dada-4535-8460-ef9561ad923b",
   "metadata": {},
   "outputs": [],
   "source": [
    "class Vehicle:\n",
    "    def __init__(self, make, model, year):\n",
    "        self.make = make\n",
    "        self.model = model\n",
    "        self.year = year\n",
    "\n",
    "    def start_engine(self):\n",
    "        print(f\"{self.year} {self.make} {self.model}: Engine started.\")\n",
    "\n",
    "    def stop_engine(self):\n",
    "        print(f\"{self.year} {self.make} {self.model}: Engine stopped.\")\n",
    "\n",
    "class Car(Vehicle):\n",
    "    def open_trunk(self):\n",
    "        print(f\"{self.year} {self.make} {self.model}: Trunk opened.\")\n",
    "\n",
    "    def close_trunk(self):\n",
    "        print(f\"{self.year} {self.make} {self.model}: Trunk closed.\")\n",
    "\n",
    "class Motorcycle(Vehicle):\n",
    "    def kickstand_down(self):\n",
    "        print(f\"{self.year} {self.make} {self.model}: Kickstand down.\")\n",
    "\n",
    "    def kickstand_up(self):\n",
    "        print(f\"{self.year} {self.make} {self.model}: Kickstand up.\")\n"
   ]
  },
  {
   "cell_type": "code",
   "execution_count": 92,
   "id": "49562c5d-fd30-4bcb-b523-069ab948c770",
   "metadata": {},
   "outputs": [
    {
     "name": "stdout",
     "output_type": "stream",
     "text": [
      "2020 Toyota Camry: Engine started.\n",
      "2020 Toyota Camry: Trunk opened.\n",
      "2020 Toyota Camry: Trunk closed.\n",
      "2020 Toyota Camry: Engine stopped.\n",
      "2019 Harley-Davidson Street 750: Engine started.\n",
      "2019 Harley-Davidson Street 750: Kickstand down.\n",
      "2019 Harley-Davidson Street 750: Kickstand up.\n",
      "2019 Harley-Davidson Street 750: Engine stopped.\n"
     ]
    }
   ],
   "source": [
    "car = Car(\"Toyota\", \"Camry\", 2020)\n",
    "motorcycle = Motorcycle(\"Harley-Davidson\", \"Street 750\", 2019)\n",
    "\n",
    "car.start_engine()\n",
    "car.open_trunk()\n",
    "car.close_trunk()\n",
    "car.stop_engine()\n",
    "\n",
    "motorcycle.start_engine()\n",
    "motorcycle.kickstand_down()\n",
    "motorcycle.kickstand_up()\n",
    "motorcycle.stop_engine()"
   ]
  },
  {
   "cell_type": "code",
   "execution_count": null,
   "id": "81c55c00-13fc-4dd1-8448-2dd35d6737f2",
   "metadata": {},
   "outputs": [],
   "source": []
  }
 ],
 "metadata": {
  "kernelspec": {
   "display_name": "Python 3 (ipykernel)",
   "language": "python",
   "name": "python3"
  },
  "language_info": {
   "codemirror_mode": {
    "name": "ipython",
    "version": 3
   },
   "file_extension": ".py",
   "mimetype": "text/x-python",
   "name": "python",
   "nbconvert_exporter": "python",
   "pygments_lexer": "ipython3",
   "version": "3.11.5"
  }
 },
 "nbformat": 4,
 "nbformat_minor": 5
}
